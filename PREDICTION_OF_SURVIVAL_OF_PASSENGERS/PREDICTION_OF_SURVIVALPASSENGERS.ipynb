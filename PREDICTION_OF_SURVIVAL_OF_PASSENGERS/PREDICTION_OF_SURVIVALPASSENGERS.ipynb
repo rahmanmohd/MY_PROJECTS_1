{
 "cells": [
  {
   "cell_type": "code",
   "execution_count": 77,
   "metadata": {
    "_cell_guid": "b1076dfc-b9ad-4769-8c92-a6c4dae69d19",
    "_uuid": "8f2839f25d086af736a60e9eeb907d3b93b6e0e5",
    "execution": {
     "iopub.execute_input": "2023-06-10T10:04:52.509896Z",
     "iopub.status.busy": "2023-06-10T10:04:52.509504Z",
     "iopub.status.idle": "2023-06-10T10:04:53.877167Z",
     "shell.execute_reply": "2023-06-10T10:04:53.876024Z"
    },
    "papermill": {
     "duration": 1.388589,
     "end_time": "2023-06-10T10:04:53.879995",
     "exception": false,
     "start_time": "2023-06-10T10:04:52.491406",
     "status": "completed"
    },
    "tags": []
   },
   "outputs": [],
   "source": [
    "import numpy as np\n",
    "import pandas as pd\n",
    "import seaborn as sns\n",
    "import matplotlib.pyplot as plt"
   ]
  },
  {
   "cell_type": "code",
   "execution_count": 78,
   "metadata": {
    "execution": {
     "iopub.execute_input": "2023-06-10T10:04:53.915379Z",
     "iopub.status.busy": "2023-06-10T10:04:53.914395Z",
     "iopub.status.idle": "2023-06-10T10:04:53.939842Z",
     "shell.execute_reply": "2023-06-10T10:04:53.938806Z"
    },
    "papermill": {
     "duration": 0.045767,
     "end_time": "2023-06-10T10:04:53.942682",
     "exception": false,
     "start_time": "2023-06-10T10:04:53.896915",
     "status": "completed"
    },
    "tags": []
   },
   "outputs": [],
   "source": [
    "train = pd.read_csv(\"C:\\\\Users\\Mutee Ur Rahman\\\\Desktop\\\\MY_PROJECTS\\\\PREDICTION_OF_SURVIVAL_OF_PASSENGERS\\\\train.csv\")"
   ]
  },
  {
   "cell_type": "code",
   "execution_count": 79,
   "metadata": {
    "execution": {
     "iopub.execute_input": "2023-06-10T10:04:53.977666Z",
     "iopub.status.busy": "2023-06-10T10:04:53.976881Z",
     "iopub.status.idle": "2023-06-10T10:04:54.009582Z",
     "shell.execute_reply": "2023-06-10T10:04:54.008779Z"
    },
    "papermill": {
     "duration": 0.052458,
     "end_time": "2023-06-10T10:04:54.011746",
     "exception": false,
     "start_time": "2023-06-10T10:04:53.959288",
     "status": "completed"
    },
    "tags": []
   },
   "outputs": [
    {
     "data": {
      "text/html": [
       "<div>\n",
       "<style scoped>\n",
       "    .dataframe tbody tr th:only-of-type {\n",
       "        vertical-align: middle;\n",
       "    }\n",
       "\n",
       "    .dataframe tbody tr th {\n",
       "        vertical-align: top;\n",
       "    }\n",
       "\n",
       "    .dataframe thead th {\n",
       "        text-align: right;\n",
       "    }\n",
       "</style>\n",
       "<table border=\"1\" class=\"dataframe\">\n",
       "  <thead>\n",
       "    <tr style=\"text-align: right;\">\n",
       "      <th></th>\n",
       "      <th>PassengerId</th>\n",
       "      <th>Survived</th>\n",
       "      <th>Pclass</th>\n",
       "      <th>Name</th>\n",
       "      <th>Sex</th>\n",
       "      <th>Age</th>\n",
       "      <th>SibSp</th>\n",
       "      <th>Parch</th>\n",
       "      <th>Ticket</th>\n",
       "      <th>Fare</th>\n",
       "      <th>Cabin</th>\n",
       "      <th>Embarked</th>\n",
       "    </tr>\n",
       "  </thead>\n",
       "  <tbody>\n",
       "    <tr>\n",
       "      <th>0</th>\n",
       "      <td>1</td>\n",
       "      <td>0</td>\n",
       "      <td>3</td>\n",
       "      <td>Braund, Mr. Owen Harris</td>\n",
       "      <td>male</td>\n",
       "      <td>22.0</td>\n",
       "      <td>1</td>\n",
       "      <td>0</td>\n",
       "      <td>A/5 21171</td>\n",
       "      <td>7.2500</td>\n",
       "      <td>NaN</td>\n",
       "      <td>S</td>\n",
       "    </tr>\n",
       "    <tr>\n",
       "      <th>1</th>\n",
       "      <td>2</td>\n",
       "      <td>1</td>\n",
       "      <td>1</td>\n",
       "      <td>Cumings, Mrs. John Bradley (Florence Briggs Th...</td>\n",
       "      <td>female</td>\n",
       "      <td>38.0</td>\n",
       "      <td>1</td>\n",
       "      <td>0</td>\n",
       "      <td>PC 17599</td>\n",
       "      <td>71.2833</td>\n",
       "      <td>C85</td>\n",
       "      <td>C</td>\n",
       "    </tr>\n",
       "    <tr>\n",
       "      <th>2</th>\n",
       "      <td>3</td>\n",
       "      <td>1</td>\n",
       "      <td>3</td>\n",
       "      <td>Heikkinen, Miss. Laina</td>\n",
       "      <td>female</td>\n",
       "      <td>26.0</td>\n",
       "      <td>0</td>\n",
       "      <td>0</td>\n",
       "      <td>STON/O2. 3101282</td>\n",
       "      <td>7.9250</td>\n",
       "      <td>NaN</td>\n",
       "      <td>S</td>\n",
       "    </tr>\n",
       "    <tr>\n",
       "      <th>3</th>\n",
       "      <td>4</td>\n",
       "      <td>1</td>\n",
       "      <td>1</td>\n",
       "      <td>Futrelle, Mrs. Jacques Heath (Lily May Peel)</td>\n",
       "      <td>female</td>\n",
       "      <td>35.0</td>\n",
       "      <td>1</td>\n",
       "      <td>0</td>\n",
       "      <td>113803</td>\n",
       "      <td>53.1000</td>\n",
       "      <td>C123</td>\n",
       "      <td>S</td>\n",
       "    </tr>\n",
       "    <tr>\n",
       "      <th>4</th>\n",
       "      <td>5</td>\n",
       "      <td>0</td>\n",
       "      <td>3</td>\n",
       "      <td>Allen, Mr. William Henry</td>\n",
       "      <td>male</td>\n",
       "      <td>35.0</td>\n",
       "      <td>0</td>\n",
       "      <td>0</td>\n",
       "      <td>373450</td>\n",
       "      <td>8.0500</td>\n",
       "      <td>NaN</td>\n",
       "      <td>S</td>\n",
       "    </tr>\n",
       "  </tbody>\n",
       "</table>\n",
       "</div>"
      ],
      "text/plain": [
       "   PassengerId  Survived  Pclass  \\\n",
       "0            1         0       3   \n",
       "1            2         1       1   \n",
       "2            3         1       3   \n",
       "3            4         1       1   \n",
       "4            5         0       3   \n",
       "\n",
       "                                                Name     Sex   Age  SibSp  \\\n",
       "0                            Braund, Mr. Owen Harris    male  22.0      1   \n",
       "1  Cumings, Mrs. John Bradley (Florence Briggs Th...  female  38.0      1   \n",
       "2                             Heikkinen, Miss. Laina  female  26.0      0   \n",
       "3       Futrelle, Mrs. Jacques Heath (Lily May Peel)  female  35.0      1   \n",
       "4                           Allen, Mr. William Henry    male  35.0      0   \n",
       "\n",
       "   Parch            Ticket     Fare Cabin Embarked  \n",
       "0      0         A/5 21171   7.2500   NaN        S  \n",
       "1      0          PC 17599  71.2833   C85        C  \n",
       "2      0  STON/O2. 3101282   7.9250   NaN        S  \n",
       "3      0            113803  53.1000  C123        S  \n",
       "4      0            373450   8.0500   NaN        S  "
      ]
     },
     "execution_count": 79,
     "metadata": {},
     "output_type": "execute_result"
    }
   ],
   "source": [
    "train.head()"
   ]
  },
  {
   "cell_type": "code",
   "execution_count": null,
   "metadata": {},
   "outputs": [],
   "source": []
  },
  {
   "cell_type": "code",
   "execution_count": 80,
   "metadata": {},
   "outputs": [
    {
     "data": {
      "text/html": [
       "<div>\n",
       "<style scoped>\n",
       "    .dataframe tbody tr th:only-of-type {\n",
       "        vertical-align: middle;\n",
       "    }\n",
       "\n",
       "    .dataframe tbody tr th {\n",
       "        vertical-align: top;\n",
       "    }\n",
       "\n",
       "    .dataframe thead th {\n",
       "        text-align: right;\n",
       "    }\n",
       "</style>\n",
       "<table border=\"1\" class=\"dataframe\">\n",
       "  <thead>\n",
       "    <tr style=\"text-align: right;\">\n",
       "      <th></th>\n",
       "      <th>PassengerId</th>\n",
       "      <th>Survived</th>\n",
       "      <th>Pclass</th>\n",
       "      <th>Name</th>\n",
       "      <th>Sex</th>\n",
       "      <th>Age</th>\n",
       "      <th>SibSp</th>\n",
       "      <th>Parch</th>\n",
       "      <th>Ticket</th>\n",
       "      <th>Fare</th>\n",
       "      <th>Cabin</th>\n",
       "      <th>Embarked</th>\n",
       "    </tr>\n",
       "  </thead>\n",
       "  <tbody>\n",
       "    <tr>\n",
       "      <th>886</th>\n",
       "      <td>887</td>\n",
       "      <td>0</td>\n",
       "      <td>2</td>\n",
       "      <td>Montvila, Rev. Juozas</td>\n",
       "      <td>male</td>\n",
       "      <td>27.0</td>\n",
       "      <td>0</td>\n",
       "      <td>0</td>\n",
       "      <td>211536</td>\n",
       "      <td>13.00</td>\n",
       "      <td>NaN</td>\n",
       "      <td>S</td>\n",
       "    </tr>\n",
       "    <tr>\n",
       "      <th>887</th>\n",
       "      <td>888</td>\n",
       "      <td>1</td>\n",
       "      <td>1</td>\n",
       "      <td>Graham, Miss. Margaret Edith</td>\n",
       "      <td>female</td>\n",
       "      <td>19.0</td>\n",
       "      <td>0</td>\n",
       "      <td>0</td>\n",
       "      <td>112053</td>\n",
       "      <td>30.00</td>\n",
       "      <td>B42</td>\n",
       "      <td>S</td>\n",
       "    </tr>\n",
       "    <tr>\n",
       "      <th>888</th>\n",
       "      <td>889</td>\n",
       "      <td>0</td>\n",
       "      <td>3</td>\n",
       "      <td>Johnston, Miss. Catherine Helen \"Carrie\"</td>\n",
       "      <td>female</td>\n",
       "      <td>NaN</td>\n",
       "      <td>1</td>\n",
       "      <td>2</td>\n",
       "      <td>W./C. 6607</td>\n",
       "      <td>23.45</td>\n",
       "      <td>NaN</td>\n",
       "      <td>S</td>\n",
       "    </tr>\n",
       "    <tr>\n",
       "      <th>889</th>\n",
       "      <td>890</td>\n",
       "      <td>1</td>\n",
       "      <td>1</td>\n",
       "      <td>Behr, Mr. Karl Howell</td>\n",
       "      <td>male</td>\n",
       "      <td>26.0</td>\n",
       "      <td>0</td>\n",
       "      <td>0</td>\n",
       "      <td>111369</td>\n",
       "      <td>30.00</td>\n",
       "      <td>C148</td>\n",
       "      <td>C</td>\n",
       "    </tr>\n",
       "    <tr>\n",
       "      <th>890</th>\n",
       "      <td>891</td>\n",
       "      <td>0</td>\n",
       "      <td>3</td>\n",
       "      <td>Dooley, Mr. Patrick</td>\n",
       "      <td>male</td>\n",
       "      <td>32.0</td>\n",
       "      <td>0</td>\n",
       "      <td>0</td>\n",
       "      <td>370376</td>\n",
       "      <td>7.75</td>\n",
       "      <td>NaN</td>\n",
       "      <td>Q</td>\n",
       "    </tr>\n",
       "  </tbody>\n",
       "</table>\n",
       "</div>"
      ],
      "text/plain": [
       "     PassengerId  Survived  Pclass                                      Name  \\\n",
       "886          887         0       2                     Montvila, Rev. Juozas   \n",
       "887          888         1       1              Graham, Miss. Margaret Edith   \n",
       "888          889         0       3  Johnston, Miss. Catherine Helen \"Carrie\"   \n",
       "889          890         1       1                     Behr, Mr. Karl Howell   \n",
       "890          891         0       3                       Dooley, Mr. Patrick   \n",
       "\n",
       "        Sex   Age  SibSp  Parch      Ticket   Fare Cabin Embarked  \n",
       "886    male  27.0      0      0      211536  13.00   NaN        S  \n",
       "887  female  19.0      0      0      112053  30.00   B42        S  \n",
       "888  female   NaN      1      2  W./C. 6607  23.45   NaN        S  \n",
       "889    male  26.0      0      0      111369  30.00  C148        C  \n",
       "890    male  32.0      0      0      370376   7.75   NaN        Q  "
      ]
     },
     "execution_count": 80,
     "metadata": {},
     "output_type": "execute_result"
    }
   ],
   "source": [
    "train.tail()"
   ]
  },
  {
   "cell_type": "code",
   "execution_count": 81,
   "metadata": {
    "execution": {
     "iopub.execute_input": "2023-06-10T10:04:54.045986Z",
     "iopub.status.busy": "2023-06-10T10:04:54.045286Z",
     "iopub.status.idle": "2023-06-10T10:04:54.055847Z",
     "shell.execute_reply": "2023-06-10T10:04:54.054632Z"
    },
    "papermill": {
     "duration": 0.030672,
     "end_time": "2023-06-10T10:04:54.058313",
     "exception": false,
     "start_time": "2023-06-10T10:04:54.027641",
     "status": "completed"
    },
    "tags": []
   },
   "outputs": [],
   "source": [
    "train = train.drop('Ticket', axis=1)"
   ]
  },
  {
   "cell_type": "code",
   "execution_count": 82,
   "metadata": {
    "execution": {
     "iopub.execute_input": "2023-06-10T10:04:54.093176Z",
     "iopub.status.busy": "2023-06-10T10:04:54.092796Z",
     "iopub.status.idle": "2023-06-10T10:04:54.116241Z",
     "shell.execute_reply": "2023-06-10T10:04:54.115174Z"
    },
    "papermill": {
     "duration": 0.04349,
     "end_time": "2023-06-10T10:04:54.118353",
     "exception": false,
     "start_time": "2023-06-10T10:04:54.074863",
     "status": "completed"
    },
    "tags": []
   },
   "outputs": [],
   "source": [
    "train['Cabin'] = train['Cabin'].str[0]"
   ]
  },
  {
   "cell_type": "code",
   "execution_count": 83,
   "metadata": {},
   "outputs": [
    {
     "data": {
      "text/html": [
       "<div>\n",
       "<style scoped>\n",
       "    .dataframe tbody tr th:only-of-type {\n",
       "        vertical-align: middle;\n",
       "    }\n",
       "\n",
       "    .dataframe tbody tr th {\n",
       "        vertical-align: top;\n",
       "    }\n",
       "\n",
       "    .dataframe thead th {\n",
       "        text-align: right;\n",
       "    }\n",
       "</style>\n",
       "<table border=\"1\" class=\"dataframe\">\n",
       "  <thead>\n",
       "    <tr style=\"text-align: right;\">\n",
       "      <th></th>\n",
       "      <th>PassengerId</th>\n",
       "      <th>Survived</th>\n",
       "      <th>Pclass</th>\n",
       "      <th>Name</th>\n",
       "      <th>Sex</th>\n",
       "      <th>Age</th>\n",
       "      <th>SibSp</th>\n",
       "      <th>Parch</th>\n",
       "      <th>Fare</th>\n",
       "      <th>Cabin</th>\n",
       "      <th>Embarked</th>\n",
       "    </tr>\n",
       "  </thead>\n",
       "  <tbody>\n",
       "    <tr>\n",
       "      <th>0</th>\n",
       "      <td>1</td>\n",
       "      <td>0</td>\n",
       "      <td>3</td>\n",
       "      <td>Braund, Mr. Owen Harris</td>\n",
       "      <td>male</td>\n",
       "      <td>22.0</td>\n",
       "      <td>1</td>\n",
       "      <td>0</td>\n",
       "      <td>7.2500</td>\n",
       "      <td>NaN</td>\n",
       "      <td>S</td>\n",
       "    </tr>\n",
       "    <tr>\n",
       "      <th>1</th>\n",
       "      <td>2</td>\n",
       "      <td>1</td>\n",
       "      <td>1</td>\n",
       "      <td>Cumings, Mrs. John Bradley (Florence Briggs Th...</td>\n",
       "      <td>female</td>\n",
       "      <td>38.0</td>\n",
       "      <td>1</td>\n",
       "      <td>0</td>\n",
       "      <td>71.2833</td>\n",
       "      <td>C</td>\n",
       "      <td>C</td>\n",
       "    </tr>\n",
       "    <tr>\n",
       "      <th>2</th>\n",
       "      <td>3</td>\n",
       "      <td>1</td>\n",
       "      <td>3</td>\n",
       "      <td>Heikkinen, Miss. Laina</td>\n",
       "      <td>female</td>\n",
       "      <td>26.0</td>\n",
       "      <td>0</td>\n",
       "      <td>0</td>\n",
       "      <td>7.9250</td>\n",
       "      <td>NaN</td>\n",
       "      <td>S</td>\n",
       "    </tr>\n",
       "    <tr>\n",
       "      <th>3</th>\n",
       "      <td>4</td>\n",
       "      <td>1</td>\n",
       "      <td>1</td>\n",
       "      <td>Futrelle, Mrs. Jacques Heath (Lily May Peel)</td>\n",
       "      <td>female</td>\n",
       "      <td>35.0</td>\n",
       "      <td>1</td>\n",
       "      <td>0</td>\n",
       "      <td>53.1000</td>\n",
       "      <td>C</td>\n",
       "      <td>S</td>\n",
       "    </tr>\n",
       "    <tr>\n",
       "      <th>4</th>\n",
       "      <td>5</td>\n",
       "      <td>0</td>\n",
       "      <td>3</td>\n",
       "      <td>Allen, Mr. William Henry</td>\n",
       "      <td>male</td>\n",
       "      <td>35.0</td>\n",
       "      <td>0</td>\n",
       "      <td>0</td>\n",
       "      <td>8.0500</td>\n",
       "      <td>NaN</td>\n",
       "      <td>S</td>\n",
       "    </tr>\n",
       "    <tr>\n",
       "      <th>...</th>\n",
       "      <td>...</td>\n",
       "      <td>...</td>\n",
       "      <td>...</td>\n",
       "      <td>...</td>\n",
       "      <td>...</td>\n",
       "      <td>...</td>\n",
       "      <td>...</td>\n",
       "      <td>...</td>\n",
       "      <td>...</td>\n",
       "      <td>...</td>\n",
       "      <td>...</td>\n",
       "    </tr>\n",
       "    <tr>\n",
       "      <th>886</th>\n",
       "      <td>887</td>\n",
       "      <td>0</td>\n",
       "      <td>2</td>\n",
       "      <td>Montvila, Rev. Juozas</td>\n",
       "      <td>male</td>\n",
       "      <td>27.0</td>\n",
       "      <td>0</td>\n",
       "      <td>0</td>\n",
       "      <td>13.0000</td>\n",
       "      <td>NaN</td>\n",
       "      <td>S</td>\n",
       "    </tr>\n",
       "    <tr>\n",
       "      <th>887</th>\n",
       "      <td>888</td>\n",
       "      <td>1</td>\n",
       "      <td>1</td>\n",
       "      <td>Graham, Miss. Margaret Edith</td>\n",
       "      <td>female</td>\n",
       "      <td>19.0</td>\n",
       "      <td>0</td>\n",
       "      <td>0</td>\n",
       "      <td>30.0000</td>\n",
       "      <td>B</td>\n",
       "      <td>S</td>\n",
       "    </tr>\n",
       "    <tr>\n",
       "      <th>888</th>\n",
       "      <td>889</td>\n",
       "      <td>0</td>\n",
       "      <td>3</td>\n",
       "      <td>Johnston, Miss. Catherine Helen \"Carrie\"</td>\n",
       "      <td>female</td>\n",
       "      <td>NaN</td>\n",
       "      <td>1</td>\n",
       "      <td>2</td>\n",
       "      <td>23.4500</td>\n",
       "      <td>NaN</td>\n",
       "      <td>S</td>\n",
       "    </tr>\n",
       "    <tr>\n",
       "      <th>889</th>\n",
       "      <td>890</td>\n",
       "      <td>1</td>\n",
       "      <td>1</td>\n",
       "      <td>Behr, Mr. Karl Howell</td>\n",
       "      <td>male</td>\n",
       "      <td>26.0</td>\n",
       "      <td>0</td>\n",
       "      <td>0</td>\n",
       "      <td>30.0000</td>\n",
       "      <td>C</td>\n",
       "      <td>C</td>\n",
       "    </tr>\n",
       "    <tr>\n",
       "      <th>890</th>\n",
       "      <td>891</td>\n",
       "      <td>0</td>\n",
       "      <td>3</td>\n",
       "      <td>Dooley, Mr. Patrick</td>\n",
       "      <td>male</td>\n",
       "      <td>32.0</td>\n",
       "      <td>0</td>\n",
       "      <td>0</td>\n",
       "      <td>7.7500</td>\n",
       "      <td>NaN</td>\n",
       "      <td>Q</td>\n",
       "    </tr>\n",
       "  </tbody>\n",
       "</table>\n",
       "<p>891 rows × 11 columns</p>\n",
       "</div>"
      ],
      "text/plain": [
       "     PassengerId  Survived  Pclass  \\\n",
       "0              1         0       3   \n",
       "1              2         1       1   \n",
       "2              3         1       3   \n",
       "3              4         1       1   \n",
       "4              5         0       3   \n",
       "..           ...       ...     ...   \n",
       "886          887         0       2   \n",
       "887          888         1       1   \n",
       "888          889         0       3   \n",
       "889          890         1       1   \n",
       "890          891         0       3   \n",
       "\n",
       "                                                  Name     Sex   Age  SibSp  \\\n",
       "0                              Braund, Mr. Owen Harris    male  22.0      1   \n",
       "1    Cumings, Mrs. John Bradley (Florence Briggs Th...  female  38.0      1   \n",
       "2                               Heikkinen, Miss. Laina  female  26.0      0   \n",
       "3         Futrelle, Mrs. Jacques Heath (Lily May Peel)  female  35.0      1   \n",
       "4                             Allen, Mr. William Henry    male  35.0      0   \n",
       "..                                                 ...     ...   ...    ...   \n",
       "886                              Montvila, Rev. Juozas    male  27.0      0   \n",
       "887                       Graham, Miss. Margaret Edith  female  19.0      0   \n",
       "888           Johnston, Miss. Catherine Helen \"Carrie\"  female   NaN      1   \n",
       "889                              Behr, Mr. Karl Howell    male  26.0      0   \n",
       "890                                Dooley, Mr. Patrick    male  32.0      0   \n",
       "\n",
       "     Parch     Fare Cabin Embarked  \n",
       "0        0   7.2500   NaN        S  \n",
       "1        0  71.2833     C        C  \n",
       "2        0   7.9250   NaN        S  \n",
       "3        0  53.1000     C        S  \n",
       "4        0   8.0500   NaN        S  \n",
       "..     ...      ...   ...      ...  \n",
       "886      0  13.0000   NaN        S  \n",
       "887      0  30.0000     B        S  \n",
       "888      2  23.4500   NaN        S  \n",
       "889      0  30.0000     C        C  \n",
       "890      0   7.7500   NaN        Q  \n",
       "\n",
       "[891 rows x 11 columns]"
      ]
     },
     "execution_count": 83,
     "metadata": {},
     "output_type": "execute_result"
    }
   ],
   "source": [
    "train"
   ]
  },
  {
   "cell_type": "code",
   "execution_count": 84,
   "metadata": {},
   "outputs": [
    {
     "name": "stdout",
     "output_type": "stream",
     "text": [
      "<class 'pandas.core.frame.DataFrame'>\n",
      "RangeIndex: 891 entries, 0 to 890\n",
      "Data columns (total 11 columns):\n",
      " #   Column       Non-Null Count  Dtype  \n",
      "---  ------       --------------  -----  \n",
      " 0   PassengerId  891 non-null    int64  \n",
      " 1   Survived     891 non-null    int64  \n",
      " 2   Pclass       891 non-null    int64  \n",
      " 3   Name         891 non-null    object \n",
      " 4   Sex          891 non-null    object \n",
      " 5   Age          714 non-null    float64\n",
      " 6   SibSp        891 non-null    int64  \n",
      " 7   Parch        891 non-null    int64  \n",
      " 8   Fare         891 non-null    float64\n",
      " 9   Cabin        204 non-null    object \n",
      " 10  Embarked     889 non-null    object \n",
      "dtypes: float64(2), int64(5), object(4)\n",
      "memory usage: 76.7+ KB\n"
     ]
    }
   ],
   "source": [
    "train.info()"
   ]
  },
  {
   "cell_type": "raw",
   "metadata": {},
   "source": [
    "train.describe()"
   ]
  },
  {
   "cell_type": "code",
   "execution_count": 74,
   "metadata": {
    "execution": {
     "iopub.execute_input": "2023-06-10T10:04:54.154480Z",
     "iopub.status.busy": "2023-06-10T10:04:54.153830Z",
     "iopub.status.idle": "2023-06-10T10:04:54.163421Z",
     "shell.execute_reply": "2023-06-10T10:04:54.162608Z"
    },
    "papermill": {
     "duration": 0.030241,
     "end_time": "2023-06-10T10:04:54.165527",
     "exception": false,
     "start_time": "2023-06-10T10:04:54.135286",
     "status": "completed"
    },
    "tags": []
   },
   "outputs": [
    {
     "data": {
      "text/plain": [
       "C    59\n",
       "B    47\n",
       "D    33\n",
       "E    32\n",
       "A    15\n",
       "F    13\n",
       "G     4\n",
       "T     1\n",
       "Name: Cabin, dtype: int64"
      ]
     },
     "execution_count": 74,
     "metadata": {},
     "output_type": "execute_result"
    }
   ],
   "source": [
    "train['Cabin'].value_counts()"
   ]
  },
  {
   "cell_type": "code",
   "execution_count": 85,
   "metadata": {},
   "outputs": [],
   "source": [
    "def bar_plot(variable):\n",
    "  \n",
    "    var=train[variable] \n",
    "    varValue=var.value_counts()\n",
    "    \n",
    "    plt.figure(figsize=(9,3))\n",
    "    plt.bar(varValue.index, varValue)\n",
    "    plt.xticks(varValue.index, varValue.index.values)\n",
    "    plt.ylabel(\"Frequency\")\n",
    "    plt.title(variable)\n",
    "    plt.show()\n",
    "    print(\"{}: \\n {}\".format(variable,varValue))"
   ]
  },
  {
   "cell_type": "code",
   "execution_count": 86,
   "metadata": {},
   "outputs": [
    {
     "data": {
      "image/png": "[encoded data removed]",
      "text/plain": [
       "<Figure size 648x216 with 1 Axes>"
      ]
     },
     "metadata": {
      "needs_background": "light"
     },
     "output_type": "display_data"
    },
    {
     "name": "stdout",
     "output_type": "stream",
     "text": [
      "Survived: \n",
      " 0    549\n",
      "1    342\n",
      "Name: Survived, dtype: int64\n"
     ]
    },
    {
     "data": {
      "image/png": "[encoded data removed]",
      "text/plain": [
       "<Figure size 648x216 with 1 Axes>"
      ]
     },
     "metadata": {
      "needs_background": "light"
     },
     "output_type": "display_data"
    },
    {
     "name": "stdout",
     "output_type": "stream",
     "text": [
      "Sex: \n",
      " male      577\n",
      "female    314\n",
      "Name: Sex, dtype: int64\n"
     ]
    },
    {
     "data": {
      "image/png": "[encoded data removed]",
      "text/plain": [
       "<Figure size 648x216 with 1 Axes>"
      ]
     },
     "metadata": {
      "needs_background": "light"
     },
     "output_type": "display_data"
    },
    {
     "name": "stdout",
     "output_type": "stream",
     "text": [
      "Pclass: \n",
      " 3    491\n",
      "1    216\n",
      "2    184\n",
      "Name: Pclass, dtype: int64\n"
     ]
    },
    {
     "data": {
      "image/png": "[encoded data removed]",
      "text/plain": [
       "<Figure size 648x216 with 1 Axes>"
      ]
     },
     "metadata": {
      "needs_background": "light"
     },
     "output_type": "display_data"
    },
    {
     "name": "stdout",
     "output_type": "stream",
     "text": [
      "Embarked: \n",
      " S    644\n",
      "C    168\n",
      "Q     77\n",
      "Name: Embarked, dtype: int64\n"
     ]
    },
    {
     "data": {
      "image/png": "[encoded data removed]",
      "text/plain": [
       "<Figure size 648x216 with 1 Axes>"
      ]
     },
     "metadata": {
      "needs_background": "light"
     },
     "output_type": "display_data"
    },
    {
     "name": "stdout",
     "output_type": "stream",
     "text": [
      "SibSp: \n",
      " 0    608\n",
      "1    209\n",
      "2     28\n",
      "4     18\n",
      "3     16\n",
      "8      7\n",
      "5      5\n",
      "Name: SibSp, dtype: int64\n"
     ]
    },
    {
     "data": {
      "image/png": "[encoded data removed]",
      "text/plain": [
       "<Figure size 648x216 with 1 Axes>"
      ]
     },
     "metadata": {
      "needs_background": "light"
     },
     "output_type": "display_data"
    },
    {
     "name": "stdout",
     "output_type": "stream",
     "text": [
      "Parch: \n",
      " 0    678\n",
      "1    118\n",
      "2     80\n",
      "5      5\n",
      "3      5\n",
      "4      4\n",
      "6      1\n",
      "Name: Parch, dtype: int64\n"
     ]
    }
   ],
   "source": [
    "category1= [\"Survived\",\"Sex\",\"Pclass\",\"Embarked\",\"SibSp\",\"Parch\"]\n",
    "for c in category1:\n",
    "    bar_plot(c)"
   ]
  },
  {
   "cell_type": "code",
   "execution_count": 75,
   "metadata": {
    "execution": {
     "iopub.execute_input": "2023-06-10T10:04:54.201719Z",
     "iopub.status.busy": "2023-06-10T10:04:54.200998Z",
     "iopub.status.idle": "2023-06-10T10:04:54.211755Z",
     "shell.execute_reply": "2023-06-10T10:04:54.210958Z"
    },
    "papermill": {
     "duration": 0.031218,
     "end_time": "2023-06-10T10:04:54.213814",
     "exception": false,
     "start_time": "2023-06-10T10:04:54.182596",
     "status": "completed"
    },
    "tags": []
   },
   "outputs": [
    {
     "data": {
      "text/plain": [
       "PassengerId      0\n",
       "Survived         0\n",
       "Pclass           0\n",
       "Name             0\n",
       "Sex              0\n",
       "Age            177\n",
       "SibSp            0\n",
       "Parch            0\n",
       "Fare             0\n",
       "Cabin          687\n",
       "Embarked         0\n",
       "HasCabin         0\n",
       "Prefix           0\n",
       "dtype: int64"
      ]
     },
     "execution_count": 75,
     "metadata": {},
     "output_type": "execute_result"
    }
   ],
   "source": [
    "train.isnull().sum()"
   ]
  },
  {
   "cell_type": "code",
   "execution_count": 89,
   "metadata": {},
   "outputs": [
    {
     "name": "stdout",
     "output_type": "stream",
     "text": [
      "<bound method IndexOpsMixin.value_counts of 0      NaN\n",
      "1        C\n",
      "2      NaN\n",
      "3        C\n",
      "4      NaN\n",
      "      ... \n",
      "886    NaN\n",
      "887      B\n",
      "888    NaN\n",
      "889      C\n",
      "890    NaN\n",
      "Name: Cabin, Length: 891, dtype: object> \n",
      "\n",
      "<bound method IndexOpsMixin.value_counts of 0                                Braund, Mr. Owen Harris\n",
      "1      Cumings, Mrs. John Bradley (Florence Briggs Th...\n",
      "2                                 Heikkinen, Miss. Laina\n",
      "3           Futrelle, Mrs. Jacques Heath (Lily May Peel)\n",
      "4                               Allen, Mr. William Henry\n",
      "                             ...                        \n",
      "886                                Montvila, Rev. Juozas\n",
      "887                         Graham, Miss. Margaret Edith\n",
      "888             Johnston, Miss. Catherine Helen \"Carrie\"\n",
      "889                                Behr, Mr. Karl Howell\n",
      "890                                  Dooley, Mr. Patrick\n",
      "Name: Name, Length: 891, dtype: object> \n",
      "\n"
     ]
    }
   ],
   "source": [
    "category2=[\"Cabin\",\"Name\"]\n",
    "for c in category2:\n",
    "    print(\"{} \\n\".format(train[c].value_counts))"
   ]
  },
  {
   "cell_type": "code",
   "execution_count": 76,
   "metadata": {
    "execution": {
     "iopub.execute_input": "2023-06-10T10:04:54.250609Z",
     "iopub.status.busy": "2023-06-10T10:04:54.249451Z",
     "iopub.status.idle": "2023-06-10T10:04:54.273042Z",
     "shell.execute_reply": "2023-06-10T10:04:54.271962Z"
    },
    "papermill": {
     "duration": 0.044494,
     "end_time": "2023-06-10T10:04:54.275528",
     "exception": false,
     "start_time": "2023-06-10T10:04:54.231034",
     "status": "completed"
    },
    "tags": []
   },
   "outputs": [
    {
     "data": {
      "text/html": [
       "<div>\n",
       "<style scoped>\n",
       "    .dataframe tbody tr th:only-of-type {\n",
       "        vertical-align: middle;\n",
       "    }\n",
       "\n",
       "    .dataframe tbody tr th {\n",
       "        vertical-align: top;\n",
       "    }\n",
       "\n",
       "    .dataframe thead th {\n",
       "        text-align: right;\n",
       "    }\n",
       "</style>\n",
       "<table border=\"1\" class=\"dataframe\">\n",
       "  <thead>\n",
       "    <tr style=\"text-align: right;\">\n",
       "      <th></th>\n",
       "      <th>PassengerId</th>\n",
       "      <th>Survived</th>\n",
       "      <th>Pclass</th>\n",
       "      <th>Name</th>\n",
       "      <th>Sex</th>\n",
       "      <th>Age</th>\n",
       "      <th>SibSp</th>\n",
       "      <th>Parch</th>\n",
       "      <th>Fare</th>\n",
       "      <th>Cabin</th>\n",
       "      <th>Embarked</th>\n",
       "      <th>HasCabin</th>\n",
       "      <th>Prefix</th>\n",
       "    </tr>\n",
       "  </thead>\n",
       "  <tbody>\n",
       "    <tr>\n",
       "      <th>0</th>\n",
       "      <td>1</td>\n",
       "      <td>0</td>\n",
       "      <td>3</td>\n",
       "      <td>Braund, Mr. Owen Harris</td>\n",
       "      <td>male</td>\n",
       "      <td>22.0</td>\n",
       "      <td>1</td>\n",
       "      <td>0</td>\n",
       "      <td>7.2500</td>\n",
       "      <td>NaN</td>\n",
       "      <td>S</td>\n",
       "      <td>1</td>\n",
       "      <td>Mr</td>\n",
       "    </tr>\n",
       "    <tr>\n",
       "      <th>1</th>\n",
       "      <td>2</td>\n",
       "      <td>1</td>\n",
       "      <td>1</td>\n",
       "      <td>Cumings, Mrs. John Bradley (Florence Briggs Th...</td>\n",
       "      <td>female</td>\n",
       "      <td>38.0</td>\n",
       "      <td>1</td>\n",
       "      <td>0</td>\n",
       "      <td>71.2833</td>\n",
       "      <td>C</td>\n",
       "      <td>C</td>\n",
       "      <td>0</td>\n",
       "      <td>Mrs</td>\n",
       "    </tr>\n",
       "    <tr>\n",
       "      <th>2</th>\n",
       "      <td>3</td>\n",
       "      <td>1</td>\n",
       "      <td>3</td>\n",
       "      <td>Heikkinen, Miss. Laina</td>\n",
       "      <td>female</td>\n",
       "      <td>26.0</td>\n",
       "      <td>0</td>\n",
       "      <td>0</td>\n",
       "      <td>7.9250</td>\n",
       "      <td>NaN</td>\n",
       "      <td>S</td>\n",
       "      <td>1</td>\n",
       "      <td>Miss</td>\n",
       "    </tr>\n",
       "    <tr>\n",
       "      <th>3</th>\n",
       "      <td>4</td>\n",
       "      <td>1</td>\n",
       "      <td>1</td>\n",
       "      <td>Futrelle, Mrs. Jacques Heath (Lily May Peel)</td>\n",
       "      <td>female</td>\n",
       "      <td>35.0</td>\n",
       "      <td>1</td>\n",
       "      <td>0</td>\n",
       "      <td>53.1000</td>\n",
       "      <td>C</td>\n",
       "      <td>S</td>\n",
       "      <td>0</td>\n",
       "      <td>Mrs</td>\n",
       "    </tr>\n",
       "    <tr>\n",
       "      <th>4</th>\n",
       "      <td>5</td>\n",
       "      <td>0</td>\n",
       "      <td>3</td>\n",
       "      <td>Allen, Mr. William Henry</td>\n",
       "      <td>male</td>\n",
       "      <td>35.0</td>\n",
       "      <td>0</td>\n",
       "      <td>0</td>\n",
       "      <td>8.0500</td>\n",
       "      <td>NaN</td>\n",
       "      <td>S</td>\n",
       "      <td>1</td>\n",
       "      <td>Mr</td>\n",
       "    </tr>\n",
       "    <tr>\n",
       "      <th>...</th>\n",
       "      <td>...</td>\n",
       "      <td>...</td>\n",
       "      <td>...</td>\n",
       "      <td>...</td>\n",
       "      <td>...</td>\n",
       "      <td>...</td>\n",
       "      <td>...</td>\n",
       "      <td>...</td>\n",
       "      <td>...</td>\n",
       "      <td>...</td>\n",
       "      <td>...</td>\n",
       "      <td>...</td>\n",
       "      <td>...</td>\n",
       "    </tr>\n",
       "    <tr>\n",
       "      <th>886</th>\n",
       "      <td>887</td>\n",
       "      <td>0</td>\n",
       "      <td>2</td>\n",
       "      <td>Montvila, Rev. Juozas</td>\n",
       "      <td>male</td>\n",
       "      <td>27.0</td>\n",
       "      <td>0</td>\n",
       "      <td>0</td>\n",
       "      <td>13.0000</td>\n",
       "      <td>NaN</td>\n",
       "      <td>S</td>\n",
       "      <td>1</td>\n",
       "      <td>Rev</td>\n",
       "    </tr>\n",
       "    <tr>\n",
       "      <th>887</th>\n",
       "      <td>888</td>\n",
       "      <td>1</td>\n",
       "      <td>1</td>\n",
       "      <td>Graham, Miss. Margaret Edith</td>\n",
       "      <td>female</td>\n",
       "      <td>19.0</td>\n",
       "      <td>0</td>\n",
       "      <td>0</td>\n",
       "      <td>30.0000</td>\n",
       "      <td>B</td>\n",
       "      <td>S</td>\n",
       "      <td>0</td>\n",
       "      <td>Miss</td>\n",
       "    </tr>\n",
       "    <tr>\n",
       "      <th>888</th>\n",
       "      <td>889</td>\n",
       "      <td>0</td>\n",
       "      <td>3</td>\n",
       "      <td>Johnston, Miss. Catherine Helen \"Carrie\"</td>\n",
       "      <td>female</td>\n",
       "      <td>NaN</td>\n",
       "      <td>1</td>\n",
       "      <td>2</td>\n",
       "      <td>23.4500</td>\n",
       "      <td>NaN</td>\n",
       "      <td>S</td>\n",
       "      <td>1</td>\n",
       "      <td>Miss</td>\n",
       "    </tr>\n",
       "    <tr>\n",
       "      <th>889</th>\n",
       "      <td>890</td>\n",
       "      <td>1</td>\n",
       "      <td>1</td>\n",
       "      <td>Behr, Mr. Karl Howell</td>\n",
       "      <td>male</td>\n",
       "      <td>26.0</td>\n",
       "      <td>0</td>\n",
       "      <td>0</td>\n",
       "      <td>30.0000</td>\n",
       "      <td>C</td>\n",
       "      <td>C</td>\n",
       "      <td>0</td>\n",
       "      <td>Mr</td>\n",
       "    </tr>\n",
       "    <tr>\n",
       "      <th>890</th>\n",
       "      <td>891</td>\n",
       "      <td>0</td>\n",
       "      <td>3</td>\n",
       "      <td>Dooley, Mr. Patrick</td>\n",
       "      <td>male</td>\n",
       "      <td>32.0</td>\n",
       "      <td>0</td>\n",
       "      <td>0</td>\n",
       "      <td>7.7500</td>\n",
       "      <td>NaN</td>\n",
       "      <td>Q</td>\n",
       "      <td>1</td>\n",
       "      <td>Mr</td>\n",
       "    </tr>\n",
       "  </tbody>\n",
       "</table>\n",
       "<p>891 rows × 13 columns</p>\n",
       "</div>"
      ],
      "text/plain": [
       "     PassengerId  Survived  Pclass  \\\n",
       "0              1         0       3   \n",
       "1              2         1       1   \n",
       "2              3         1       3   \n",
       "3              4         1       1   \n",
       "4              5         0       3   \n",
       "..           ...       ...     ...   \n",
       "886          887         0       2   \n",
       "887          888         1       1   \n",
       "888          889         0       3   \n",
       "889          890         1       1   \n",
       "890          891         0       3   \n",
       "\n",
       "                                                  Name     Sex   Age  SibSp  \\\n",
       "0                              Braund, Mr. Owen Harris    male  22.0      1   \n",
       "1    Cumings, Mrs. John Bradley (Florence Briggs Th...  female  38.0      1   \n",
       "2                               Heikkinen, Miss. Laina  female  26.0      0   \n",
       "3         Futrelle, Mrs. Jacques Heath (Lily May Peel)  female  35.0      1   \n",
       "4                             Allen, Mr. William Henry    male  35.0      0   \n",
       "..                                                 ...     ...   ...    ...   \n",
       "886                              Montvila, Rev. Juozas    male  27.0      0   \n",
       "887                       Graham, Miss. Margaret Edith  female  19.0      0   \n",
       "888           Johnston, Miss. Catherine Helen \"Carrie\"  female   NaN      1   \n",
       "889                              Behr, Mr. Karl Howell    male  26.0      0   \n",
       "890                                Dooley, Mr. Patrick    male  32.0      0   \n",
       "\n",
       "     Parch     Fare Cabin Embarked  HasCabin Prefix  \n",
       "0        0   7.2500   NaN        S         1     Mr  \n",
       "1        0  71.2833     C        C         0    Mrs  \n",
       "2        0   7.9250   NaN        S         1   Miss  \n",
       "3        0  53.1000     C        S         0    Mrs  \n",
       "4        0   8.0500   NaN        S         1     Mr  \n",
       "..     ...      ...   ...      ...       ...    ...  \n",
       "886      0  13.0000   NaN        S         1    Rev  \n",
       "887      0  30.0000     B        S         0   Miss  \n",
       "888      2  23.4500   NaN        S         1   Miss  \n",
       "889      0  30.0000     C        C         0     Mr  \n",
       "890      0   7.7500   NaN        Q         1     Mr  \n",
       "\n",
       "[891 rows x 13 columns]"
      ]
     },
     "execution_count": 76,
     "metadata": {},
     "output_type": "execute_result"
    }
   ],
   "source": [
    "train['Embarked'] = train['Embarked'].fillna(train.Embarked.mode()[0])\n",
    "train"
   ]
  },
  {
   "cell_type": "code",
   "execution_count": 67,
   "metadata": {
    "execution": {
     "iopub.execute_input": "2023-06-10T10:04:54.313295Z",
     "iopub.status.busy": "2023-06-10T10:04:54.312603Z",
     "iopub.status.idle": "2023-06-10T10:04:54.322438Z",
     "shell.execute_reply": "2023-06-10T10:04:54.321509Z"
    },
    "papermill": {
     "duration": 0.031263,
     "end_time": "2023-06-10T10:04:54.324539",
     "exception": false,
     "start_time": "2023-06-10T10:04:54.293276",
     "status": "completed"
    },
    "tags": []
   },
   "outputs": [
    {
     "data": {
      "text/plain": [
       "PassengerId      0\n",
       "Survived         0\n",
       "Pclass           0\n",
       "Name             0\n",
       "Sex              0\n",
       "Age            177\n",
       "SibSp            0\n",
       "Parch            0\n",
       "Fare             0\n",
       "Cabin          687\n",
       "Embarked         0\n",
       "dtype: int64"
      ]
     },
     "execution_count": 67,
     "metadata": {},
     "output_type": "execute_result"
    }
   ],
   "source": [
    "train.isnull().sum()"
   ]
  },
  {
   "cell_type": "code",
   "execution_count": 68,
   "metadata": {
    "execution": {
     "iopub.execute_input": "2023-06-10T10:04:54.361356Z",
     "iopub.status.busy": "2023-06-10T10:04:54.360943Z",
     "iopub.status.idle": "2023-06-10T10:04:54.373683Z",
     "shell.execute_reply": "2023-06-10T10:04:54.372629Z"
    },
    "papermill": {
     "duration": 0.033925,
     "end_time": "2023-06-10T10:04:54.375851",
     "exception": false,
     "start_time": "2023-06-10T10:04:54.341926",
     "status": "completed"
    },
    "tags": []
   },
   "outputs": [
    {
     "data": {
      "text/plain": [
       "PassengerId      0\n",
       "Survived         0\n",
       "Pclass           0\n",
       "Name             0\n",
       "Sex              0\n",
       "Age            177\n",
       "SibSp            0\n",
       "Parch            0\n",
       "Fare             0\n",
       "Cabin          687\n",
       "Embarked         0\n",
       "HasCabin         0\n",
       "dtype: int64"
      ]
     },
     "execution_count": 68,
     "metadata": {},
     "output_type": "execute_result"
    }
   ],
   "source": [
    "train['HasCabin'] = 0\n",
    "\n",
    "train.loc[train['Cabin'].isnull(), 'HasCabin'] = 1\n",
    "train.isnull().sum()"
   ]
  },
  {
   "cell_type": "code",
   "execution_count": 69,
   "metadata": {
    "execution": {
     "iopub.execute_input": "2023-06-10T10:04:54.414476Z",
     "iopub.status.busy": "2023-06-10T10:04:54.413753Z",
     "iopub.status.idle": "2023-06-10T10:04:54.438249Z",
     "shell.execute_reply": "2023-06-10T10:04:54.437482Z"
    },
    "papermill": {
     "duration": 0.046182,
     "end_time": "2023-06-10T10:04:54.440326",
     "exception": false,
     "start_time": "2023-06-10T10:04:54.394144",
     "status": "completed"
    },
    "tags": []
   },
   "outputs": [
    {
     "data": {
      "text/html": [
       "<div>\n",
       "<style scoped>\n",
       "    .dataframe tbody tr th:only-of-type {\n",
       "        vertical-align: middle;\n",
       "    }\n",
       "\n",
       "    .dataframe tbody tr th {\n",
       "        vertical-align: top;\n",
       "    }\n",
       "\n",
       "    .dataframe thead th {\n",
       "        text-align: right;\n",
       "    }\n",
       "</style>\n",
       "<table border=\"1\" class=\"dataframe\">\n",
       "  <thead>\n",
       "    <tr style=\"text-align: right;\">\n",
       "      <th></th>\n",
       "      <th>PassengerId</th>\n",
       "      <th>Survived</th>\n",
       "      <th>Pclass</th>\n",
       "      <th>Name</th>\n",
       "      <th>Sex</th>\n",
       "      <th>Age</th>\n",
       "      <th>SibSp</th>\n",
       "      <th>Parch</th>\n",
       "      <th>Fare</th>\n",
       "      <th>Cabin</th>\n",
       "      <th>Embarked</th>\n",
       "      <th>HasCabin</th>\n",
       "      <th>Prefix</th>\n",
       "    </tr>\n",
       "  </thead>\n",
       "  <tbody>\n",
       "    <tr>\n",
       "      <th>0</th>\n",
       "      <td>1</td>\n",
       "      <td>0</td>\n",
       "      <td>3</td>\n",
       "      <td>Braund, Mr. Owen Harris</td>\n",
       "      <td>male</td>\n",
       "      <td>22.0</td>\n",
       "      <td>1</td>\n",
       "      <td>0</td>\n",
       "      <td>7.2500</td>\n",
       "      <td>NaN</td>\n",
       "      <td>S</td>\n",
       "      <td>1</td>\n",
       "      <td>Mr</td>\n",
       "    </tr>\n",
       "    <tr>\n",
       "      <th>1</th>\n",
       "      <td>2</td>\n",
       "      <td>1</td>\n",
       "      <td>1</td>\n",
       "      <td>Cumings, Mrs. John Bradley (Florence Briggs Th...</td>\n",
       "      <td>female</td>\n",
       "      <td>38.0</td>\n",
       "      <td>1</td>\n",
       "      <td>0</td>\n",
       "      <td>71.2833</td>\n",
       "      <td>C</td>\n",
       "      <td>C</td>\n",
       "      <td>0</td>\n",
       "      <td>Mrs</td>\n",
       "    </tr>\n",
       "    <tr>\n",
       "      <th>2</th>\n",
       "      <td>3</td>\n",
       "      <td>1</td>\n",
       "      <td>3</td>\n",
       "      <td>Heikkinen, Miss. Laina</td>\n",
       "      <td>female</td>\n",
       "      <td>26.0</td>\n",
       "      <td>0</td>\n",
       "      <td>0</td>\n",
       "      <td>7.9250</td>\n",
       "      <td>NaN</td>\n",
       "      <td>S</td>\n",
       "      <td>1</td>\n",
       "      <td>Miss</td>\n",
       "    </tr>\n",
       "    <tr>\n",
       "      <th>3</th>\n",
       "      <td>4</td>\n",
       "      <td>1</td>\n",
       "      <td>1</td>\n",
       "      <td>Futrelle, Mrs. Jacques Heath (Lily May Peel)</td>\n",
       "      <td>female</td>\n",
       "      <td>35.0</td>\n",
       "      <td>1</td>\n",
       "      <td>0</td>\n",
       "      <td>53.1000</td>\n",
       "      <td>C</td>\n",
       "      <td>S</td>\n",
       "      <td>0</td>\n",
       "      <td>Mrs</td>\n",
       "    </tr>\n",
       "    <tr>\n",
       "      <th>4</th>\n",
       "      <td>5</td>\n",
       "      <td>0</td>\n",
       "      <td>3</td>\n",
       "      <td>Allen, Mr. William Henry</td>\n",
       "      <td>male</td>\n",
       "      <td>35.0</td>\n",
       "      <td>0</td>\n",
       "      <td>0</td>\n",
       "      <td>8.0500</td>\n",
       "      <td>NaN</td>\n",
       "      <td>S</td>\n",
       "      <td>1</td>\n",
       "      <td>Mr</td>\n",
       "    </tr>\n",
       "    <tr>\n",
       "      <th>...</th>\n",
       "      <td>...</td>\n",
       "      <td>...</td>\n",
       "      <td>...</td>\n",
       "      <td>...</td>\n",
       "      <td>...</td>\n",
       "      <td>...</td>\n",
       "      <td>...</td>\n",
       "      <td>...</td>\n",
       "      <td>...</td>\n",
       "      <td>...</td>\n",
       "      <td>...</td>\n",
       "      <td>...</td>\n",
       "      <td>...</td>\n",
       "    </tr>\n",
       "    <tr>\n",
       "      <th>886</th>\n",
       "      <td>887</td>\n",
       "      <td>0</td>\n",
       "      <td>2</td>\n",
       "      <td>Montvila, Rev. Juozas</td>\n",
       "      <td>male</td>\n",
       "      <td>27.0</td>\n",
       "      <td>0</td>\n",
       "      <td>0</td>\n",
       "      <td>13.0000</td>\n",
       "      <td>NaN</td>\n",
       "      <td>S</td>\n",
       "      <td>1</td>\n",
       "      <td>Rev</td>\n",
       "    </tr>\n",
       "    <tr>\n",
       "      <th>887</th>\n",
       "      <td>888</td>\n",
       "      <td>1</td>\n",
       "      <td>1</td>\n",
       "      <td>Graham, Miss. Margaret Edith</td>\n",
       "      <td>female</td>\n",
       "      <td>19.0</td>\n",
       "      <td>0</td>\n",
       "      <td>0</td>\n",
       "      <td>30.0000</td>\n",
       "      <td>B</td>\n",
       "      <td>S</td>\n",
       "      <td>0</td>\n",
       "      <td>Miss</td>\n",
       "    </tr>\n",
       "    <tr>\n",
       "      <th>888</th>\n",
       "      <td>889</td>\n",
       "      <td>0</td>\n",
       "      <td>3</td>\n",
       "      <td>Johnston, Miss. Catherine Helen \"Carrie\"</td>\n",
       "      <td>female</td>\n",
       "      <td>NaN</td>\n",
       "      <td>1</td>\n",
       "      <td>2</td>\n",
       "      <td>23.4500</td>\n",
       "      <td>NaN</td>\n",
       "      <td>S</td>\n",
       "      <td>1</td>\n",
       "      <td>Miss</td>\n",
       "    </tr>\n",
       "    <tr>\n",
       "      <th>889</th>\n",
       "      <td>890</td>\n",
       "      <td>1</td>\n",
       "      <td>1</td>\n",
       "      <td>Behr, Mr. Karl Howell</td>\n",
       "      <td>male</td>\n",
       "      <td>26.0</td>\n",
       "      <td>0</td>\n",
       "      <td>0</td>\n",
       "      <td>30.0000</td>\n",
       "      <td>C</td>\n",
       "      <td>C</td>\n",
       "      <td>0</td>\n",
       "      <td>Mr</td>\n",
       "    </tr>\n",
       "    <tr>\n",
       "      <th>890</th>\n",
       "      <td>891</td>\n",
       "      <td>0</td>\n",
       "      <td>3</td>\n",
       "      <td>Dooley, Mr. Patrick</td>\n",
       "      <td>male</td>\n",
       "      <td>32.0</td>\n",
       "      <td>0</td>\n",
       "      <td>0</td>\n",
       "      <td>7.7500</td>\n",
       "      <td>NaN</td>\n",
       "      <td>Q</td>\n",
       "      <td>1</td>\n",
       "      <td>Mr</td>\n",
       "    </tr>\n",
       "  </tbody>\n",
       "</table>\n",
       "<p>891 rows × 13 columns</p>\n",
       "</div>"
      ],
      "text/plain": [
       "     PassengerId  Survived  Pclass  \\\n",
       "0              1         0       3   \n",
       "1              2         1       1   \n",
       "2              3         1       3   \n",
       "3              4         1       1   \n",
       "4              5         0       3   \n",
       "..           ...       ...     ...   \n",
       "886          887         0       2   \n",
       "887          888         1       1   \n",
       "888          889         0       3   \n",
       "889          890         1       1   \n",
       "890          891         0       3   \n",
       "\n",
       "                                                  Name     Sex   Age  SibSp  \\\n",
       "0                              Braund, Mr. Owen Harris    male  22.0      1   \n",
       "1    Cumings, Mrs. John Bradley (Florence Briggs Th...  female  38.0      1   \n",
       "2                               Heikkinen, Miss. Laina  female  26.0      0   \n",
       "3         Futrelle, Mrs. Jacques Heath (Lily May Peel)  female  35.0      1   \n",
       "4                             Allen, Mr. William Henry    male  35.0      0   \n",
       "..                                                 ...     ...   ...    ...   \n",
       "886                              Montvila, Rev. Juozas    male  27.0      0   \n",
       "887                       Graham, Miss. Margaret Edith  female  19.0      0   \n",
       "888           Johnston, Miss. Catherine Helen \"Carrie\"  female   NaN      1   \n",
       "889                              Behr, Mr. Karl Howell    male  26.0      0   \n",
       "890                                Dooley, Mr. Patrick    male  32.0      0   \n",
       "\n",
       "     Parch     Fare Cabin Embarked  HasCabin Prefix  \n",
       "0        0   7.2500   NaN        S         1     Mr  \n",
       "1        0  71.2833     C        C         0    Mrs  \n",
       "2        0   7.9250   NaN        S         1   Miss  \n",
       "3        0  53.1000     C        S         0    Mrs  \n",
       "4        0   8.0500   NaN        S         1     Mr  \n",
       "..     ...      ...   ...      ...       ...    ...  \n",
       "886      0  13.0000   NaN        S         1    Rev  \n",
       "887      0  30.0000     B        S         0   Miss  \n",
       "888      2  23.4500   NaN        S         1   Miss  \n",
       "889      0  30.0000     C        C         0     Mr  \n",
       "890      0   7.7500   NaN        Q         1     Mr  \n",
       "\n",
       "[891 rows x 13 columns]"
      ]
     },
     "execution_count": 69,
     "metadata": {},
     "output_type": "execute_result"
    }
   ],
   "source": [
    "train['Prefix'] = train['Name'].apply(lambda x: x.split(',')[1].split('.')[0].strip())\n",
    "train"
   ]
  },
  {
   "cell_type": "code",
   "execution_count": 12,
   "metadata": {
    "execution": {
     "iopub.execute_input": "2023-06-10T10:04:54.479265Z",
     "iopub.status.busy": "2023-06-10T10:04:54.478536Z",
     "iopub.status.idle": "2023-06-10T10:04:54.502162Z",
     "shell.execute_reply": "2023-06-10T10:04:54.500884Z"
    },
    "papermill": {
     "duration": 0.045826,
     "end_time": "2023-06-10T10:04:54.504628",
     "exception": false,
     "start_time": "2023-06-10T10:04:54.458802",
     "status": "completed"
    },
    "tags": []
   },
   "outputs": [
    {
     "data": {
      "text/html": [
       "<div>\n",
       "<style scoped>\n",
       "    .dataframe tbody tr th:only-of-type {\n",
       "        vertical-align: middle;\n",
       "    }\n",
       "\n",
       "    .dataframe tbody tr th {\n",
       "        vertical-align: top;\n",
       "    }\n",
       "\n",
       "    .dataframe thead th {\n",
       "        text-align: right;\n",
       "    }\n",
       "</style>\n",
       "<table border=\"1\" class=\"dataframe\">\n",
       "  <thead>\n",
       "    <tr style=\"text-align: right;\">\n",
       "      <th></th>\n",
       "      <th>PassengerId</th>\n",
       "      <th>Survived</th>\n",
       "      <th>Pclass</th>\n",
       "      <th>Sex</th>\n",
       "      <th>Age</th>\n",
       "      <th>SibSp</th>\n",
       "      <th>Parch</th>\n",
       "      <th>Fare</th>\n",
       "      <th>Cabin</th>\n",
       "      <th>Embarked</th>\n",
       "      <th>HasCabin</th>\n",
       "      <th>Prefix</th>\n",
       "    </tr>\n",
       "  </thead>\n",
       "  <tbody>\n",
       "    <tr>\n",
       "      <th>0</th>\n",
       "      <td>1</td>\n",
       "      <td>0</td>\n",
       "      <td>3</td>\n",
       "      <td>male</td>\n",
       "      <td>22.0</td>\n",
       "      <td>1</td>\n",
       "      <td>0</td>\n",
       "      <td>7.2500</td>\n",
       "      <td>NaN</td>\n",
       "      <td>S</td>\n",
       "      <td>1</td>\n",
       "      <td>Mr</td>\n",
       "    </tr>\n",
       "    <tr>\n",
       "      <th>1</th>\n",
       "      <td>2</td>\n",
       "      <td>1</td>\n",
       "      <td>1</td>\n",
       "      <td>female</td>\n",
       "      <td>38.0</td>\n",
       "      <td>1</td>\n",
       "      <td>0</td>\n",
       "      <td>71.2833</td>\n",
       "      <td>C</td>\n",
       "      <td>C</td>\n",
       "      <td>0</td>\n",
       "      <td>Mrs</td>\n",
       "    </tr>\n",
       "    <tr>\n",
       "      <th>2</th>\n",
       "      <td>3</td>\n",
       "      <td>1</td>\n",
       "      <td>3</td>\n",
       "      <td>female</td>\n",
       "      <td>26.0</td>\n",
       "      <td>0</td>\n",
       "      <td>0</td>\n",
       "      <td>7.9250</td>\n",
       "      <td>NaN</td>\n",
       "      <td>S</td>\n",
       "      <td>1</td>\n",
       "      <td>Miss</td>\n",
       "    </tr>\n",
       "    <tr>\n",
       "      <th>3</th>\n",
       "      <td>4</td>\n",
       "      <td>1</td>\n",
       "      <td>1</td>\n",
       "      <td>female</td>\n",
       "      <td>35.0</td>\n",
       "      <td>1</td>\n",
       "      <td>0</td>\n",
       "      <td>53.1000</td>\n",
       "      <td>C</td>\n",
       "      <td>S</td>\n",
       "      <td>0</td>\n",
       "      <td>Mrs</td>\n",
       "    </tr>\n",
       "    <tr>\n",
       "      <th>4</th>\n",
       "      <td>5</td>\n",
       "      <td>0</td>\n",
       "      <td>3</td>\n",
       "      <td>male</td>\n",
       "      <td>35.0</td>\n",
       "      <td>0</td>\n",
       "      <td>0</td>\n",
       "      <td>8.0500</td>\n",
       "      <td>NaN</td>\n",
       "      <td>S</td>\n",
       "      <td>1</td>\n",
       "      <td>Mr</td>\n",
       "    </tr>\n",
       "    <tr>\n",
       "      <th>...</th>\n",
       "      <td>...</td>\n",
       "      <td>...</td>\n",
       "      <td>...</td>\n",
       "      <td>...</td>\n",
       "      <td>...</td>\n",
       "      <td>...</td>\n",
       "      <td>...</td>\n",
       "      <td>...</td>\n",
       "      <td>...</td>\n",
       "      <td>...</td>\n",
       "      <td>...</td>\n",
       "      <td>...</td>\n",
       "    </tr>\n",
       "    <tr>\n",
       "      <th>886</th>\n",
       "      <td>887</td>\n",
       "      <td>0</td>\n",
       "      <td>2</td>\n",
       "      <td>male</td>\n",
       "      <td>27.0</td>\n",
       "      <td>0</td>\n",
       "      <td>0</td>\n",
       "      <td>13.0000</td>\n",
       "      <td>NaN</td>\n",
       "      <td>S</td>\n",
       "      <td>1</td>\n",
       "      <td>Rev</td>\n",
       "    </tr>\n",
       "    <tr>\n",
       "      <th>887</th>\n",
       "      <td>888</td>\n",
       "      <td>1</td>\n",
       "      <td>1</td>\n",
       "      <td>female</td>\n",
       "      <td>19.0</td>\n",
       "      <td>0</td>\n",
       "      <td>0</td>\n",
       "      <td>30.0000</td>\n",
       "      <td>B</td>\n",
       "      <td>S</td>\n",
       "      <td>0</td>\n",
       "      <td>Miss</td>\n",
       "    </tr>\n",
       "    <tr>\n",
       "      <th>888</th>\n",
       "      <td>889</td>\n",
       "      <td>0</td>\n",
       "      <td>3</td>\n",
       "      <td>female</td>\n",
       "      <td>NaN</td>\n",
       "      <td>1</td>\n",
       "      <td>2</td>\n",
       "      <td>23.4500</td>\n",
       "      <td>NaN</td>\n",
       "      <td>S</td>\n",
       "      <td>1</td>\n",
       "      <td>Miss</td>\n",
       "    </tr>\n",
       "    <tr>\n",
       "      <th>889</th>\n",
       "      <td>890</td>\n",
       "      <td>1</td>\n",
       "      <td>1</td>\n",
       "      <td>male</td>\n",
       "      <td>26.0</td>\n",
       "      <td>0</td>\n",
       "      <td>0</td>\n",
       "      <td>30.0000</td>\n",
       "      <td>C</td>\n",
       "      <td>C</td>\n",
       "      <td>0</td>\n",
       "      <td>Mr</td>\n",
       "    </tr>\n",
       "    <tr>\n",
       "      <th>890</th>\n",
       "      <td>891</td>\n",
       "      <td>0</td>\n",
       "      <td>3</td>\n",
       "      <td>male</td>\n",
       "      <td>32.0</td>\n",
       "      <td>0</td>\n",
       "      <td>0</td>\n",
       "      <td>7.7500</td>\n",
       "      <td>NaN</td>\n",
       "      <td>Q</td>\n",
       "      <td>1</td>\n",
       "      <td>Mr</td>\n",
       "    </tr>\n",
       "  </tbody>\n",
       "</table>\n",
       "<p>891 rows × 12 columns</p>\n",
       "</div>"
      ],
      "text/plain": [
       "     PassengerId  Survived  Pclass     Sex   Age  SibSp  Parch     Fare Cabin  \\\n",
       "0              1         0       3    male  22.0      1      0   7.2500   NaN   \n",
       "1              2         1       1  female  38.0      1      0  71.2833     C   \n",
       "2              3         1       3  female  26.0      0      0   7.9250   NaN   \n",
       "3              4         1       1  female  35.0      1      0  53.1000     C   \n",
       "4              5         0       3    male  35.0      0      0   8.0500   NaN   \n",
       "..           ...       ...     ...     ...   ...    ...    ...      ...   ...   \n",
       "886          887         0       2    male  27.0      0      0  13.0000   NaN   \n",
       "887          888         1       1  female  19.0      0      0  30.0000     B   \n",
       "888          889         0       3  female   NaN      1      2  23.4500   NaN   \n",
       "889          890         1       1    male  26.0      0      0  30.0000     C   \n",
       "890          891         0       3    male  32.0      0      0   7.7500   NaN   \n",
       "\n",
       "    Embarked  HasCabin Prefix  \n",
       "0          S         1     Mr  \n",
       "1          C         0    Mrs  \n",
       "2          S         1   Miss  \n",
       "3          S         0    Mrs  \n",
       "4          S         1     Mr  \n",
       "..       ...       ...    ...  \n",
       "886        S         1    Rev  \n",
       "887        S         0   Miss  \n",
       "888        S         1   Miss  \n",
       "889        C         0     Mr  \n",
       "890        Q         1     Mr  \n",
       "\n",
       "[891 rows x 12 columns]"
      ]
     },
     "execution_count": 12,
     "metadata": {},
     "output_type": "execute_result"
    }
   ],
   "source": [
    "train = train.drop('Name', axis=1)\n",
    "train"
   ]
  },
  {
   "cell_type": "code",
   "execution_count": 13,
   "metadata": {
    "execution": {
     "iopub.execute_input": "2023-06-10T10:04:54.544100Z",
     "iopub.status.busy": "2023-06-10T10:04:54.543691Z",
     "iopub.status.idle": "2023-06-10T10:04:54.552075Z",
     "shell.execute_reply": "2023-06-10T10:04:54.551129Z"
    },
    "papermill": {
     "duration": 0.030586,
     "end_time": "2023-06-10T10:04:54.554059",
     "exception": false,
     "start_time": "2023-06-10T10:04:54.523473",
     "status": "completed"
    },
    "tags": []
   },
   "outputs": [
    {
     "data": {
      "text/plain": [
       "Mr              517\n",
       "Miss            182\n",
       "Mrs             125\n",
       "Master           40\n",
       "Dr                7\n",
       "Rev               6\n",
       "Major             2\n",
       "Col               2\n",
       "Mlle              2\n",
       "Lady              1\n",
       "Capt              1\n",
       "Ms                1\n",
       "the Countess      1\n",
       "Don               1\n",
       "Jonkheer          1\n",
       "Sir               1\n",
       "Mme               1\n",
       "Name: Prefix, dtype: int64"
      ]
     },
     "execution_count": 13,
     "metadata": {},
     "output_type": "execute_result"
    }
   ],
   "source": [
    "train.Prefix.value_counts()"
   ]
  },
  {
   "cell_type": "code",
   "execution_count": 14,
   "metadata": {
    "execution": {
     "iopub.execute_input": "2023-06-10T10:04:54.594888Z",
     "iopub.status.busy": "2023-06-10T10:04:54.593939Z",
     "iopub.status.idle": "2023-06-10T10:04:54.603425Z",
     "shell.execute_reply": "2023-06-10T10:04:54.602624Z"
    },
    "papermill": {
     "duration": 0.03241,
     "end_time": "2023-06-10T10:04:54.605499",
     "exception": false,
     "start_time": "2023-06-10T10:04:54.573089",
     "status": "completed"
    },
    "tags": []
   },
   "outputs": [
    {
     "data": {
      "text/plain": [
       "124"
      ]
     },
     "execution_count": 14,
     "metadata": {},
     "output_type": "execute_result"
    }
   ],
   "source": [
    "train.loc[train.Sex == 'male', 'Age'].isnull().sum()"
   ]
  },
  {
   "cell_type": "code",
   "execution_count": 15,
   "metadata": {
    "execution": {
     "iopub.execute_input": "2023-06-10T10:04:54.645103Z",
     "iopub.status.busy": "2023-06-10T10:04:54.644522Z",
     "iopub.status.idle": "2023-06-10T10:04:54.651108Z",
     "shell.execute_reply": "2023-06-10T10:04:54.650376Z"
    },
    "papermill": {
     "duration": 0.028637,
     "end_time": "2023-06-10T10:04:54.653173",
     "exception": false,
     "start_time": "2023-06-10T10:04:54.624536",
     "status": "completed"
    },
    "tags": []
   },
   "outputs": [
    {
     "data": {
      "text/plain": [
       "30.72664459161148"
      ]
     },
     "execution_count": 15,
     "metadata": {},
     "output_type": "execute_result"
    }
   ],
   "source": [
    "train.loc[train.Sex == 'male', 'Age'].mean()"
   ]
  },
  {
   "cell_type": "code",
   "execution_count": 16,
   "metadata": {
    "execution": {
     "iopub.execute_input": "2023-06-10T10:04:54.693857Z",
     "iopub.status.busy": "2023-06-10T10:04:54.693308Z",
     "iopub.status.idle": "2023-06-10T10:04:54.704098Z",
     "shell.execute_reply": "2023-06-10T10:04:54.703181Z"
    },
    "papermill": {
     "duration": 0.033926,
     "end_time": "2023-06-10T10:04:54.706355",
     "exception": false,
     "start_time": "2023-06-10T10:04:54.672429",
     "status": "completed"
    },
    "tags": []
   },
   "outputs": [
    {
     "data": {
      "text/plain": [
       "0"
      ]
     },
     "execution_count": 16,
     "metadata": {},
     "output_type": "execute_result"
    }
   ],
   "source": [
    "train.loc[(train['Sex']=='male')&(train['Age'].isnull()), 'Age'] = train.loc[train['Sex']=='male']['Age'].mean()\n",
    "train.loc[train.Sex == 'male', 'Age'].isnull().sum()"
   ]
  },
  {
   "cell_type": "code",
   "execution_count": 17,
   "metadata": {
    "execution": {
     "iopub.execute_input": "2023-06-10T10:04:54.747650Z",
     "iopub.status.busy": "2023-06-10T10:04:54.746989Z",
     "iopub.status.idle": "2023-06-10T10:04:54.754451Z",
     "shell.execute_reply": "2023-06-10T10:04:54.753390Z"
    },
    "papermill": {
     "duration": 0.031076,
     "end_time": "2023-06-10T10:04:54.756917",
     "exception": false,
     "start_time": "2023-06-10T10:04:54.725841",
     "status": "completed"
    },
    "tags": []
   },
   "outputs": [
    {
     "data": {
      "text/plain": [
       "27.915708812260537"
      ]
     },
     "execution_count": 17,
     "metadata": {},
     "output_type": "execute_result"
    }
   ],
   "source": [
    "train.loc[train.Sex == 'female', 'Age'].mean()"
   ]
  },
  {
   "cell_type": "code",
   "execution_count": 18,
   "metadata": {
    "execution": {
     "iopub.execute_input": "2023-06-10T10:04:54.797804Z",
     "iopub.status.busy": "2023-06-10T10:04:54.797385Z",
     "iopub.status.idle": "2023-06-10T10:04:54.810068Z",
     "shell.execute_reply": "2023-06-10T10:04:54.809288Z"
    },
    "papermill": {
     "duration": 0.035713,
     "end_time": "2023-06-10T10:04:54.812241",
     "exception": false,
     "start_time": "2023-06-10T10:04:54.776528",
     "status": "completed"
    },
    "tags": []
   },
   "outputs": [
    {
     "data": {
      "text/plain": [
       "0"
      ]
     },
     "execution_count": 18,
     "metadata": {},
     "output_type": "execute_result"
    }
   ],
   "source": [
    "train.loc[(train['Sex']=='female')&(train['Age'].isnull()), 'Age'] = train.loc[train['Sex']=='female']['Age'].mean()\n",
    "train.loc[train.Sex == 'female', 'Age'].isnull().sum()"
   ]
  },
  {
   "cell_type": "code",
   "execution_count": 19,
   "metadata": {
    "execution": {
     "iopub.execute_input": "2023-06-10T10:04:54.854356Z",
     "iopub.status.busy": "2023-06-10T10:04:54.853610Z",
     "iopub.status.idle": "2023-06-10T10:04:54.870569Z",
     "shell.execute_reply": "2023-06-10T10:04:54.869515Z"
    },
    "papermill": {
     "duration": 0.040551,
     "end_time": "2023-06-10T10:04:54.872813",
     "exception": false,
     "start_time": "2023-06-10T10:04:54.832262",
     "status": "completed"
    },
    "tags": []
   },
   "outputs": [
    {
     "data": {
      "text/html": [
       "<div>\n",
       "<style scoped>\n",
       "    .dataframe tbody tr th:only-of-type {\n",
       "        vertical-align: middle;\n",
       "    }\n",
       "\n",
       "    .dataframe tbody tr th {\n",
       "        vertical-align: top;\n",
       "    }\n",
       "\n",
       "    .dataframe thead th {\n",
       "        text-align: right;\n",
       "    }\n",
       "</style>\n",
       "<table border=\"1\" class=\"dataframe\">\n",
       "  <thead>\n",
       "    <tr style=\"text-align: right;\">\n",
       "      <th></th>\n",
       "      <th>PassengerId</th>\n",
       "      <th>Survived</th>\n",
       "      <th>Pclass</th>\n",
       "      <th>Sex</th>\n",
       "      <th>Age</th>\n",
       "      <th>SibSp</th>\n",
       "      <th>Parch</th>\n",
       "      <th>Fare</th>\n",
       "      <th>Cabin</th>\n",
       "      <th>Embarked</th>\n",
       "      <th>HasCabin</th>\n",
       "      <th>Prefix</th>\n",
       "    </tr>\n",
       "  </thead>\n",
       "  <tbody>\n",
       "    <tr>\n",
       "      <th>0</th>\n",
       "      <td>1</td>\n",
       "      <td>0</td>\n",
       "      <td>3</td>\n",
       "      <td>male</td>\n",
       "      <td>22.0</td>\n",
       "      <td>1</td>\n",
       "      <td>0</td>\n",
       "      <td>7.2500</td>\n",
       "      <td>NaN</td>\n",
       "      <td>S</td>\n",
       "      <td>1</td>\n",
       "      <td>Mr</td>\n",
       "    </tr>\n",
       "    <tr>\n",
       "      <th>1</th>\n",
       "      <td>2</td>\n",
       "      <td>1</td>\n",
       "      <td>1</td>\n",
       "      <td>female</td>\n",
       "      <td>38.0</td>\n",
       "      <td>1</td>\n",
       "      <td>0</td>\n",
       "      <td>71.2833</td>\n",
       "      <td>C</td>\n",
       "      <td>C</td>\n",
       "      <td>0</td>\n",
       "      <td>Mrs</td>\n",
       "    </tr>\n",
       "    <tr>\n",
       "      <th>2</th>\n",
       "      <td>3</td>\n",
       "      <td>1</td>\n",
       "      <td>3</td>\n",
       "      <td>female</td>\n",
       "      <td>26.0</td>\n",
       "      <td>0</td>\n",
       "      <td>0</td>\n",
       "      <td>7.9250</td>\n",
       "      <td>NaN</td>\n",
       "      <td>S</td>\n",
       "      <td>1</td>\n",
       "      <td>Miss</td>\n",
       "    </tr>\n",
       "    <tr>\n",
       "      <th>3</th>\n",
       "      <td>4</td>\n",
       "      <td>1</td>\n",
       "      <td>1</td>\n",
       "      <td>female</td>\n",
       "      <td>35.0</td>\n",
       "      <td>1</td>\n",
       "      <td>0</td>\n",
       "      <td>53.1000</td>\n",
       "      <td>C</td>\n",
       "      <td>S</td>\n",
       "      <td>0</td>\n",
       "      <td>Mrs</td>\n",
       "    </tr>\n",
       "    <tr>\n",
       "      <th>4</th>\n",
       "      <td>5</td>\n",
       "      <td>0</td>\n",
       "      <td>3</td>\n",
       "      <td>male</td>\n",
       "      <td>35.0</td>\n",
       "      <td>0</td>\n",
       "      <td>0</td>\n",
       "      <td>8.0500</td>\n",
       "      <td>NaN</td>\n",
       "      <td>S</td>\n",
       "      <td>1</td>\n",
       "      <td>Mr</td>\n",
       "    </tr>\n",
       "  </tbody>\n",
       "</table>\n",
       "</div>"
      ],
      "text/plain": [
       "   PassengerId  Survived  Pclass     Sex   Age  SibSp  Parch     Fare Cabin  \\\n",
       "0            1         0       3    male  22.0      1      0   7.2500   NaN   \n",
       "1            2         1       1  female  38.0      1      0  71.2833     C   \n",
       "2            3         1       3  female  26.0      0      0   7.9250   NaN   \n",
       "3            4         1       1  female  35.0      1      0  53.1000     C   \n",
       "4            5         0       3    male  35.0      0      0   8.0500   NaN   \n",
       "\n",
       "  Embarked  HasCabin Prefix  \n",
       "0        S         1     Mr  \n",
       "1        C         0    Mrs  \n",
       "2        S         1   Miss  \n",
       "3        S         0    Mrs  \n",
       "4        S         1     Mr  "
      ]
     },
     "execution_count": 19,
     "metadata": {},
     "output_type": "execute_result"
    }
   ],
   "source": [
    "train.head()"
   ]
  },
  {
   "cell_type": "code",
   "execution_count": 20,
   "metadata": {
    "execution": {
     "iopub.execute_input": "2023-06-10T10:04:54.915288Z",
     "iopub.status.busy": "2023-06-10T10:04:54.914875Z",
     "iopub.status.idle": "2023-06-10T10:04:54.926417Z",
     "shell.execute_reply": "2023-06-10T10:04:54.925184Z"
    },
    "papermill": {
     "duration": 0.035662,
     "end_time": "2023-06-10T10:04:54.928834",
     "exception": false,
     "start_time": "2023-06-10T10:04:54.893172",
     "status": "completed"
    },
    "tags": []
   },
   "outputs": [
    {
     "data": {
      "text/plain": [
       "PassengerId      0\n",
       "Survived         0\n",
       "Pclass           0\n",
       "Sex              0\n",
       "Age              0\n",
       "SibSp            0\n",
       "Parch            0\n",
       "Fare             0\n",
       "Cabin          687\n",
       "Embarked         0\n",
       "HasCabin         0\n",
       "Prefix           0\n",
       "dtype: int64"
      ]
     },
     "execution_count": 20,
     "metadata": {},
     "output_type": "execute_result"
    }
   ],
   "source": [
    "train.isnull().sum()"
   ]
  },
  {
   "cell_type": "code",
   "execution_count": 21,
   "metadata": {
    "execution": {
     "iopub.execute_input": "2023-06-10T10:04:54.971754Z",
     "iopub.status.busy": "2023-06-10T10:04:54.971378Z",
     "iopub.status.idle": "2023-06-10T10:04:54.984562Z",
     "shell.execute_reply": "2023-06-10T10:04:54.983486Z"
    },
    "papermill": {
     "duration": 0.037135,
     "end_time": "2023-06-10T10:04:54.986898",
     "exception": false,
     "start_time": "2023-06-10T10:04:54.949763",
     "status": "completed"
    },
    "tags": []
   },
   "outputs": [
    {
     "data": {
      "text/html": [
       "<div>\n",
       "<style scoped>\n",
       "    .dataframe tbody tr th:only-of-type {\n",
       "        vertical-align: middle;\n",
       "    }\n",
       "\n",
       "    .dataframe tbody tr th {\n",
       "        vertical-align: top;\n",
       "    }\n",
       "\n",
       "    .dataframe thead th {\n",
       "        text-align: right;\n",
       "    }\n",
       "</style>\n",
       "<table border=\"1\" class=\"dataframe\">\n",
       "  <thead>\n",
       "    <tr style=\"text-align: right;\">\n",
       "      <th></th>\n",
       "      <th>Age</th>\n",
       "      <th>Sex</th>\n",
       "    </tr>\n",
       "  </thead>\n",
       "  <tbody>\n",
       "    <tr>\n",
       "      <th>245</th>\n",
       "      <td>44.000000</td>\n",
       "      <td>male</td>\n",
       "    </tr>\n",
       "    <tr>\n",
       "      <th>317</th>\n",
       "      <td>54.000000</td>\n",
       "      <td>male</td>\n",
       "    </tr>\n",
       "    <tr>\n",
       "      <th>398</th>\n",
       "      <td>23.000000</td>\n",
       "      <td>male</td>\n",
       "    </tr>\n",
       "    <tr>\n",
       "      <th>632</th>\n",
       "      <td>32.000000</td>\n",
       "      <td>male</td>\n",
       "    </tr>\n",
       "    <tr>\n",
       "      <th>660</th>\n",
       "      <td>50.000000</td>\n",
       "      <td>male</td>\n",
       "    </tr>\n",
       "    <tr>\n",
       "      <th>766</th>\n",
       "      <td>30.726645</td>\n",
       "      <td>male</td>\n",
       "    </tr>\n",
       "    <tr>\n",
       "      <th>796</th>\n",
       "      <td>49.000000</td>\n",
       "      <td>female</td>\n",
       "    </tr>\n",
       "  </tbody>\n",
       "</table>\n",
       "</div>"
      ],
      "text/plain": [
       "           Age     Sex\n",
       "245  44.000000    male\n",
       "317  54.000000    male\n",
       "398  23.000000    male\n",
       "632  32.000000    male\n",
       "660  50.000000    male\n",
       "766  30.726645    male\n",
       "796  49.000000  female"
      ]
     },
     "execution_count": 21,
     "metadata": {},
     "output_type": "execute_result"
    }
   ],
   "source": [
    "train.loc[train.Prefix=='Dr', ['Age', 'Sex']]"
   ]
  },
  {
   "cell_type": "code",
   "execution_count": 22,
   "metadata": {
    "execution": {
     "iopub.execute_input": "2023-06-10T10:04:55.030691Z",
     "iopub.status.busy": "2023-06-10T10:04:55.030278Z",
     "iopub.status.idle": "2023-06-10T10:04:55.043319Z",
     "shell.execute_reply": "2023-06-10T10:04:55.042199Z"
    },
    "papermill": {
     "duration": 0.037559,
     "end_time": "2023-06-10T10:04:55.045325",
     "exception": false,
     "start_time": "2023-06-10T10:04:55.007766",
     "status": "completed"
    },
    "tags": []
   },
   "outputs": [
    {
     "data": {
      "text/html": [
       "<div>\n",
       "<style scoped>\n",
       "    .dataframe tbody tr th:only-of-type {\n",
       "        vertical-align: middle;\n",
       "    }\n",
       "\n",
       "    .dataframe tbody tr th {\n",
       "        vertical-align: top;\n",
       "    }\n",
       "\n",
       "    .dataframe thead th {\n",
       "        text-align: right;\n",
       "    }\n",
       "</style>\n",
       "<table border=\"1\" class=\"dataframe\">\n",
       "  <thead>\n",
       "    <tr style=\"text-align: right;\">\n",
       "      <th></th>\n",
       "      <th>Age</th>\n",
       "      <th>Sex</th>\n",
       "    </tr>\n",
       "  </thead>\n",
       "  <tbody>\n",
       "    <tr>\n",
       "      <th>149</th>\n",
       "      <td>42.0</td>\n",
       "      <td>male</td>\n",
       "    </tr>\n",
       "    <tr>\n",
       "      <th>150</th>\n",
       "      <td>51.0</td>\n",
       "      <td>male</td>\n",
       "    </tr>\n",
       "    <tr>\n",
       "      <th>249</th>\n",
       "      <td>54.0</td>\n",
       "      <td>male</td>\n",
       "    </tr>\n",
       "    <tr>\n",
       "      <th>626</th>\n",
       "      <td>57.0</td>\n",
       "      <td>male</td>\n",
       "    </tr>\n",
       "    <tr>\n",
       "      <th>848</th>\n",
       "      <td>28.0</td>\n",
       "      <td>male</td>\n",
       "    </tr>\n",
       "    <tr>\n",
       "      <th>886</th>\n",
       "      <td>27.0</td>\n",
       "      <td>male</td>\n",
       "    </tr>\n",
       "  </tbody>\n",
       "</table>\n",
       "</div>"
      ],
      "text/plain": [
       "      Age   Sex\n",
       "149  42.0  male\n",
       "150  51.0  male\n",
       "249  54.0  male\n",
       "626  57.0  male\n",
       "848  28.0  male\n",
       "886  27.0  male"
      ]
     },
     "execution_count": 22,
     "metadata": {},
     "output_type": "execute_result"
    }
   ],
   "source": [
    "train.loc[train.Prefix=='Rev', ['Age', 'Sex']]"
   ]
  },
  {
   "cell_type": "code",
   "execution_count": 23,
   "metadata": {
    "execution": {
     "iopub.execute_input": "2023-06-10T10:04:55.089021Z",
     "iopub.status.busy": "2023-06-10T10:04:55.087937Z",
     "iopub.status.idle": "2023-06-10T10:04:55.099847Z",
     "shell.execute_reply": "2023-06-10T10:04:55.098857Z"
    },
    "papermill": {
     "duration": 0.03584,
     "end_time": "2023-06-10T10:04:55.101897",
     "exception": false,
     "start_time": "2023-06-10T10:04:55.066057",
     "status": "completed"
    },
    "tags": []
   },
   "outputs": [
    {
     "data": {
      "text/html": [
       "<div>\n",
       "<style scoped>\n",
       "    .dataframe tbody tr th:only-of-type {\n",
       "        vertical-align: middle;\n",
       "    }\n",
       "\n",
       "    .dataframe tbody tr th {\n",
       "        vertical-align: top;\n",
       "    }\n",
       "\n",
       "    .dataframe thead th {\n",
       "        text-align: right;\n",
       "    }\n",
       "</style>\n",
       "<table border=\"1\" class=\"dataframe\">\n",
       "  <thead>\n",
       "    <tr style=\"text-align: right;\">\n",
       "      <th></th>\n",
       "      <th>Age</th>\n",
       "      <th>Sex</th>\n",
       "    </tr>\n",
       "  </thead>\n",
       "  <tbody>\n",
       "    <tr>\n",
       "      <th>641</th>\n",
       "      <td>24.0</td>\n",
       "      <td>female</td>\n",
       "    </tr>\n",
       "    <tr>\n",
       "      <th>710</th>\n",
       "      <td>24.0</td>\n",
       "      <td>female</td>\n",
       "    </tr>\n",
       "  </tbody>\n",
       "</table>\n",
       "</div>"
      ],
      "text/plain": [
       "      Age     Sex\n",
       "641  24.0  female\n",
       "710  24.0  female"
      ]
     },
     "execution_count": 23,
     "metadata": {},
     "output_type": "execute_result"
    }
   ],
   "source": [
    "train.loc[train.Prefix=='Mlle', ['Age', 'Sex']]"
   ]
  },
  {
   "cell_type": "code",
   "execution_count": 24,
   "metadata": {
    "execution": {
     "iopub.execute_input": "2023-06-10T10:04:55.144841Z",
     "iopub.status.busy": "2023-06-10T10:04:55.144438Z",
     "iopub.status.idle": "2023-06-10T10:04:55.157944Z",
     "shell.execute_reply": "2023-06-10T10:04:55.156746Z"
    },
    "papermill": {
     "duration": 0.037684,
     "end_time": "2023-06-10T10:04:55.160281",
     "exception": false,
     "start_time": "2023-06-10T10:04:55.122597",
     "status": "completed"
    },
    "tags": []
   },
   "outputs": [
    {
     "data": {
      "text/html": [
       "<div>\n",
       "<style scoped>\n",
       "    .dataframe tbody tr th:only-of-type {\n",
       "        vertical-align: middle;\n",
       "    }\n",
       "\n",
       "    .dataframe tbody tr th {\n",
       "        vertical-align: top;\n",
       "    }\n",
       "\n",
       "    .dataframe thead th {\n",
       "        text-align: right;\n",
       "    }\n",
       "</style>\n",
       "<table border=\"1\" class=\"dataframe\">\n",
       "  <thead>\n",
       "    <tr style=\"text-align: right;\">\n",
       "      <th></th>\n",
       "      <th>Age</th>\n",
       "      <th>Sex</th>\n",
       "    </tr>\n",
       "  </thead>\n",
       "  <tbody>\n",
       "    <tr>\n",
       "      <th>449</th>\n",
       "      <td>52.0</td>\n",
       "      <td>male</td>\n",
       "    </tr>\n",
       "    <tr>\n",
       "      <th>536</th>\n",
       "      <td>45.0</td>\n",
       "      <td>male</td>\n",
       "    </tr>\n",
       "  </tbody>\n",
       "</table>\n",
       "</div>"
      ],
      "text/plain": [
       "      Age   Sex\n",
       "449  52.0  male\n",
       "536  45.0  male"
      ]
     },
     "execution_count": 24,
     "metadata": {},
     "output_type": "execute_result"
    }
   ],
   "source": [
    "train.loc[train.Prefix=='Major', ['Age', 'Sex']]"
   ]
  },
  {
   "cell_type": "code",
   "execution_count": 25,
   "metadata": {
    "execution": {
     "iopub.execute_input": "2023-06-10T10:04:55.203686Z",
     "iopub.status.busy": "2023-06-10T10:04:55.203255Z",
     "iopub.status.idle": "2023-06-10T10:04:55.215610Z",
     "shell.execute_reply": "2023-06-10T10:04:55.214800Z"
    },
    "papermill": {
     "duration": 0.036285,
     "end_time": "2023-06-10T10:04:55.217611",
     "exception": false,
     "start_time": "2023-06-10T10:04:55.181326",
     "status": "completed"
    },
    "tags": []
   },
   "outputs": [
    {
     "data": {
      "text/html": [
       "<div>\n",
       "<style scoped>\n",
       "    .dataframe tbody tr th:only-of-type {\n",
       "        vertical-align: middle;\n",
       "    }\n",
       "\n",
       "    .dataframe tbody tr th {\n",
       "        vertical-align: top;\n",
       "    }\n",
       "\n",
       "    .dataframe thead th {\n",
       "        text-align: right;\n",
       "    }\n",
       "</style>\n",
       "<table border=\"1\" class=\"dataframe\">\n",
       "  <thead>\n",
       "    <tr style=\"text-align: right;\">\n",
       "      <th></th>\n",
       "      <th>Age</th>\n",
       "      <th>Sex</th>\n",
       "    </tr>\n",
       "  </thead>\n",
       "  <tbody>\n",
       "    <tr>\n",
       "      <th>647</th>\n",
       "      <td>56.0</td>\n",
       "      <td>male</td>\n",
       "    </tr>\n",
       "    <tr>\n",
       "      <th>694</th>\n",
       "      <td>60.0</td>\n",
       "      <td>male</td>\n",
       "    </tr>\n",
       "  </tbody>\n",
       "</table>\n",
       "</div>"
      ],
      "text/plain": [
       "      Age   Sex\n",
       "647  56.0  male\n",
       "694  60.0  male"
      ]
     },
     "execution_count": 25,
     "metadata": {},
     "output_type": "execute_result"
    }
   ],
   "source": [
    "train.loc[train.Prefix=='Col', ['Age', 'Sex']]"
   ]
  },
  {
   "cell_type": "code",
   "execution_count": 26,
   "metadata": {
    "execution": {
     "iopub.execute_input": "2023-06-10T10:04:55.261712Z",
     "iopub.status.busy": "2023-06-10T10:04:55.261339Z",
     "iopub.status.idle": "2023-06-10T10:04:55.278141Z",
     "shell.execute_reply": "2023-06-10T10:04:55.277021Z"
    },
    "papermill": {
     "duration": 0.041237,
     "end_time": "2023-06-10T10:04:55.280226",
     "exception": false,
     "start_time": "2023-06-10T10:04:55.238989",
     "status": "completed"
    },
    "tags": []
   },
   "outputs": [
    {
     "data": {
      "text/html": [
       "<div>\n",
       "<style scoped>\n",
       "    .dataframe tbody tr th:only-of-type {\n",
       "        vertical-align: middle;\n",
       "    }\n",
       "\n",
       "    .dataframe tbody tr th {\n",
       "        vertical-align: top;\n",
       "    }\n",
       "\n",
       "    .dataframe thead th {\n",
       "        text-align: right;\n",
       "    }\n",
       "</style>\n",
       "<table border=\"1\" class=\"dataframe\">\n",
       "  <thead>\n",
       "    <tr style=\"text-align: right;\">\n",
       "      <th></th>\n",
       "      <th>Age</th>\n",
       "      <th>Sex</th>\n",
       "    </tr>\n",
       "  </thead>\n",
       "  <tbody>\n",
       "    <tr>\n",
       "      <th>7</th>\n",
       "      <td>2.000000</td>\n",
       "      <td>male</td>\n",
       "    </tr>\n",
       "    <tr>\n",
       "      <th>16</th>\n",
       "      <td>2.000000</td>\n",
       "      <td>male</td>\n",
       "    </tr>\n",
       "    <tr>\n",
       "      <th>50</th>\n",
       "      <td>7.000000</td>\n",
       "      <td>male</td>\n",
       "    </tr>\n",
       "    <tr>\n",
       "      <th>59</th>\n",
       "      <td>11.000000</td>\n",
       "      <td>male</td>\n",
       "    </tr>\n",
       "    <tr>\n",
       "      <th>63</th>\n",
       "      <td>4.000000</td>\n",
       "      <td>male</td>\n",
       "    </tr>\n",
       "    <tr>\n",
       "      <th>65</th>\n",
       "      <td>30.726645</td>\n",
       "      <td>male</td>\n",
       "    </tr>\n",
       "    <tr>\n",
       "      <th>78</th>\n",
       "      <td>0.830000</td>\n",
       "      <td>male</td>\n",
       "    </tr>\n",
       "    <tr>\n",
       "      <th>125</th>\n",
       "      <td>12.000000</td>\n",
       "      <td>male</td>\n",
       "    </tr>\n",
       "    <tr>\n",
       "      <th>159</th>\n",
       "      <td>30.726645</td>\n",
       "      <td>male</td>\n",
       "    </tr>\n",
       "    <tr>\n",
       "      <th>164</th>\n",
       "      <td>1.000000</td>\n",
       "      <td>male</td>\n",
       "    </tr>\n",
       "    <tr>\n",
       "      <th>165</th>\n",
       "      <td>9.000000</td>\n",
       "      <td>male</td>\n",
       "    </tr>\n",
       "    <tr>\n",
       "      <th>171</th>\n",
       "      <td>4.000000</td>\n",
       "      <td>male</td>\n",
       "    </tr>\n",
       "    <tr>\n",
       "      <th>176</th>\n",
       "      <td>30.726645</td>\n",
       "      <td>male</td>\n",
       "    </tr>\n",
       "    <tr>\n",
       "      <th>182</th>\n",
       "      <td>9.000000</td>\n",
       "      <td>male</td>\n",
       "    </tr>\n",
       "    <tr>\n",
       "      <th>183</th>\n",
       "      <td>1.000000</td>\n",
       "      <td>male</td>\n",
       "    </tr>\n",
       "    <tr>\n",
       "      <th>193</th>\n",
       "      <td>3.000000</td>\n",
       "      <td>male</td>\n",
       "    </tr>\n",
       "    <tr>\n",
       "      <th>261</th>\n",
       "      <td>3.000000</td>\n",
       "      <td>male</td>\n",
       "    </tr>\n",
       "    <tr>\n",
       "      <th>278</th>\n",
       "      <td>7.000000</td>\n",
       "      <td>male</td>\n",
       "    </tr>\n",
       "    <tr>\n",
       "      <th>305</th>\n",
       "      <td>0.920000</td>\n",
       "      <td>male</td>\n",
       "    </tr>\n",
       "    <tr>\n",
       "      <th>340</th>\n",
       "      <td>2.000000</td>\n",
       "      <td>male</td>\n",
       "    </tr>\n",
       "    <tr>\n",
       "      <th>348</th>\n",
       "      <td>3.000000</td>\n",
       "      <td>male</td>\n",
       "    </tr>\n",
       "    <tr>\n",
       "      <th>386</th>\n",
       "      <td>1.000000</td>\n",
       "      <td>male</td>\n",
       "    </tr>\n",
       "    <tr>\n",
       "      <th>407</th>\n",
       "      <td>3.000000</td>\n",
       "      <td>male</td>\n",
       "    </tr>\n",
       "    <tr>\n",
       "      <th>445</th>\n",
       "      <td>4.000000</td>\n",
       "      <td>male</td>\n",
       "    </tr>\n",
       "    <tr>\n",
       "      <th>480</th>\n",
       "      <td>9.000000</td>\n",
       "      <td>male</td>\n",
       "    </tr>\n",
       "    <tr>\n",
       "      <th>489</th>\n",
       "      <td>9.000000</td>\n",
       "      <td>male</td>\n",
       "    </tr>\n",
       "    <tr>\n",
       "      <th>549</th>\n",
       "      <td>8.000000</td>\n",
       "      <td>male</td>\n",
       "    </tr>\n",
       "    <tr>\n",
       "      <th>709</th>\n",
       "      <td>30.726645</td>\n",
       "      <td>male</td>\n",
       "    </tr>\n",
       "    <tr>\n",
       "      <th>751</th>\n",
       "      <td>6.000000</td>\n",
       "      <td>male</td>\n",
       "    </tr>\n",
       "    <tr>\n",
       "      <th>755</th>\n",
       "      <td>0.670000</td>\n",
       "      <td>male</td>\n",
       "    </tr>\n",
       "    <tr>\n",
       "      <th>787</th>\n",
       "      <td>8.000000</td>\n",
       "      <td>male</td>\n",
       "    </tr>\n",
       "    <tr>\n",
       "      <th>788</th>\n",
       "      <td>1.000000</td>\n",
       "      <td>male</td>\n",
       "    </tr>\n",
       "    <tr>\n",
       "      <th>802</th>\n",
       "      <td>11.000000</td>\n",
       "      <td>male</td>\n",
       "    </tr>\n",
       "    <tr>\n",
       "      <th>803</th>\n",
       "      <td>0.420000</td>\n",
       "      <td>male</td>\n",
       "    </tr>\n",
       "    <tr>\n",
       "      <th>819</th>\n",
       "      <td>10.000000</td>\n",
       "      <td>male</td>\n",
       "    </tr>\n",
       "    <tr>\n",
       "      <th>824</th>\n",
       "      <td>2.000000</td>\n",
       "      <td>male</td>\n",
       "    </tr>\n",
       "    <tr>\n",
       "      <th>827</th>\n",
       "      <td>1.000000</td>\n",
       "      <td>male</td>\n",
       "    </tr>\n",
       "    <tr>\n",
       "      <th>831</th>\n",
       "      <td>0.830000</td>\n",
       "      <td>male</td>\n",
       "    </tr>\n",
       "    <tr>\n",
       "      <th>850</th>\n",
       "      <td>4.000000</td>\n",
       "      <td>male</td>\n",
       "    </tr>\n",
       "    <tr>\n",
       "      <th>869</th>\n",
       "      <td>4.000000</td>\n",
       "      <td>male</td>\n",
       "    </tr>\n",
       "  </tbody>\n",
       "</table>\n",
       "</div>"
      ],
      "text/plain": [
       "           Age   Sex\n",
       "7     2.000000  male\n",
       "16    2.000000  male\n",
       "50    7.000000  male\n",
       "59   11.000000  male\n",
       "63    4.000000  male\n",
       "65   30.726645  male\n",
       "78    0.830000  male\n",
       "125  12.000000  male\n",
       "159  30.726645  male\n",
       "164   1.000000  male\n",
       "165   9.000000  male\n",
       "171   4.000000  male\n",
       "176  30.726645  male\n",
       "182   9.000000  male\n",
       "183   1.000000  male\n",
       "193   3.000000  male\n",
       "261   3.000000  male\n",
       "278   7.000000  male\n",
       "305   0.920000  male\n",
       "340   2.000000  male\n",
       "348   3.000000  male\n",
       "386   1.000000  male\n",
       "407   3.000000  male\n",
       "445   4.000000  male\n",
       "480   9.000000  male\n",
       "489   9.000000  male\n",
       "549   8.000000  male\n",
       "709  30.726645  male\n",
       "751   6.000000  male\n",
       "755   0.670000  male\n",
       "787   8.000000  male\n",
       "788   1.000000  male\n",
       "802  11.000000  male\n",
       "803   0.420000  male\n",
       "819  10.000000  male\n",
       "824   2.000000  male\n",
       "827   1.000000  male\n",
       "831   0.830000  male\n",
       "850   4.000000  male\n",
       "869   4.000000  male"
      ]
     },
     "execution_count": 26,
     "metadata": {},
     "output_type": "execute_result"
    }
   ],
   "source": [
    "train.loc[train.Prefix=='Master', ['Age', 'Sex']]"
   ]
  },
  {
   "cell_type": "code",
   "execution_count": 27,
   "metadata": {
    "execution": {
     "iopub.execute_input": "2023-06-10T10:04:55.325559Z",
     "iopub.status.busy": "2023-06-10T10:04:55.325153Z",
     "iopub.status.idle": "2023-06-10T10:04:55.335492Z",
     "shell.execute_reply": "2023-06-10T10:04:55.334425Z"
    },
    "papermill": {
     "duration": 0.035884,
     "end_time": "2023-06-10T10:04:55.337720",
     "exception": false,
     "start_time": "2023-06-10T10:04:55.301836",
     "status": "completed"
    },
    "tags": []
   },
   "outputs": [],
   "source": [
    "train['GroupPrefix'] = train['Prefix']\n",
    "train['GroupPrefix'] = train['GroupPrefix'].replace(['Master', 'Col', 'Major', 'Rev', 'Don',\n",
    "                                                     'Sir', 'Capt', 'Jonkheer'], 'Mr')\n",
    "train['GroupPrefix'] = train['GroupPrefix'].replace(['Mlle', 'Mme', 'Ms', 'Lady', 'the Countess'], 'Mrs')"
   ]
  },
  {
   "cell_type": "code",
   "execution_count": 28,
   "metadata": {
    "execution": {
     "iopub.execute_input": "2023-06-10T10:04:55.381491Z",
     "iopub.status.busy": "2023-06-10T10:04:55.381044Z",
     "iopub.status.idle": "2023-06-10T10:04:55.389070Z",
     "shell.execute_reply": "2023-06-10T10:04:55.388377Z"
    },
    "papermill": {
     "duration": 0.032211,
     "end_time": "2023-06-10T10:04:55.390907",
     "exception": false,
     "start_time": "2023-06-10T10:04:55.358696",
     "status": "completed"
    },
    "tags": []
   },
   "outputs": [
    {
     "data": {
      "text/plain": [
       "Mr      571\n",
       "Miss    182\n",
       "Mrs     131\n",
       "Dr        7\n",
       "Name: GroupPrefix, dtype: int64"
      ]
     },
     "execution_count": 28,
     "metadata": {},
     "output_type": "execute_result"
    }
   ],
   "source": [
    "train.GroupPrefix.value_counts()"
   ]
  },
  {
   "cell_type": "code",
   "execution_count": 29,
   "metadata": {
    "execution": {
     "iopub.execute_input": "2023-06-10T10:04:55.434702Z",
     "iopub.status.busy": "2023-06-10T10:04:55.434288Z",
     "iopub.status.idle": "2023-06-10T10:04:55.452223Z",
     "shell.execute_reply": "2023-06-10T10:04:55.451124Z"
    },
    "papermill": {
     "duration": 0.043297,
     "end_time": "2023-06-10T10:04:55.454476",
     "exception": false,
     "start_time": "2023-06-10T10:04:55.411179",
     "status": "completed"
    },
    "tags": []
   },
   "outputs": [
    {
     "data": {
      "text/html": [
       "<div>\n",
       "<style scoped>\n",
       "    .dataframe tbody tr th:only-of-type {\n",
       "        vertical-align: middle;\n",
       "    }\n",
       "\n",
       "    .dataframe tbody tr th {\n",
       "        vertical-align: top;\n",
       "    }\n",
       "\n",
       "    .dataframe thead th {\n",
       "        text-align: right;\n",
       "    }\n",
       "</style>\n",
       "<table border=\"1\" class=\"dataframe\">\n",
       "  <thead>\n",
       "    <tr style=\"text-align: right;\">\n",
       "      <th></th>\n",
       "      <th>PassengerId</th>\n",
       "      <th>Survived</th>\n",
       "      <th>Pclass</th>\n",
       "      <th>Sex</th>\n",
       "      <th>Age</th>\n",
       "      <th>SibSp</th>\n",
       "      <th>Parch</th>\n",
       "      <th>Fare</th>\n",
       "      <th>Cabin</th>\n",
       "      <th>Embarked</th>\n",
       "      <th>HasCabin</th>\n",
       "      <th>Prefix</th>\n",
       "      <th>GroupPrefix</th>\n",
       "    </tr>\n",
       "  </thead>\n",
       "  <tbody>\n",
       "    <tr>\n",
       "      <th>0</th>\n",
       "      <td>1</td>\n",
       "      <td>0</td>\n",
       "      <td>3</td>\n",
       "      <td>male</td>\n",
       "      <td>22.0</td>\n",
       "      <td>1</td>\n",
       "      <td>0</td>\n",
       "      <td>7.2500</td>\n",
       "      <td>NaN</td>\n",
       "      <td>S</td>\n",
       "      <td>1</td>\n",
       "      <td>Mr</td>\n",
       "      <td>Mr</td>\n",
       "    </tr>\n",
       "    <tr>\n",
       "      <th>1</th>\n",
       "      <td>2</td>\n",
       "      <td>1</td>\n",
       "      <td>1</td>\n",
       "      <td>female</td>\n",
       "      <td>38.0</td>\n",
       "      <td>1</td>\n",
       "      <td>0</td>\n",
       "      <td>71.2833</td>\n",
       "      <td>C</td>\n",
       "      <td>C</td>\n",
       "      <td>0</td>\n",
       "      <td>Mrs</td>\n",
       "      <td>Mrs</td>\n",
       "    </tr>\n",
       "    <tr>\n",
       "      <th>2</th>\n",
       "      <td>3</td>\n",
       "      <td>1</td>\n",
       "      <td>3</td>\n",
       "      <td>female</td>\n",
       "      <td>26.0</td>\n",
       "      <td>0</td>\n",
       "      <td>0</td>\n",
       "      <td>7.9250</td>\n",
       "      <td>NaN</td>\n",
       "      <td>S</td>\n",
       "      <td>1</td>\n",
       "      <td>Miss</td>\n",
       "      <td>Miss</td>\n",
       "    </tr>\n",
       "    <tr>\n",
       "      <th>3</th>\n",
       "      <td>4</td>\n",
       "      <td>1</td>\n",
       "      <td>1</td>\n",
       "      <td>female</td>\n",
       "      <td>35.0</td>\n",
       "      <td>1</td>\n",
       "      <td>0</td>\n",
       "      <td>53.1000</td>\n",
       "      <td>C</td>\n",
       "      <td>S</td>\n",
       "      <td>0</td>\n",
       "      <td>Mrs</td>\n",
       "      <td>Mrs</td>\n",
       "    </tr>\n",
       "    <tr>\n",
       "      <th>4</th>\n",
       "      <td>5</td>\n",
       "      <td>0</td>\n",
       "      <td>3</td>\n",
       "      <td>male</td>\n",
       "      <td>35.0</td>\n",
       "      <td>0</td>\n",
       "      <td>0</td>\n",
       "      <td>8.0500</td>\n",
       "      <td>NaN</td>\n",
       "      <td>S</td>\n",
       "      <td>1</td>\n",
       "      <td>Mr</td>\n",
       "      <td>Mr</td>\n",
       "    </tr>\n",
       "  </tbody>\n",
       "</table>\n",
       "</div>"
      ],
      "text/plain": [
       "   PassengerId  Survived  Pclass     Sex   Age  SibSp  Parch     Fare Cabin  \\\n",
       "0            1         0       3    male  22.0      1      0   7.2500   NaN   \n",
       "1            2         1       1  female  38.0      1      0  71.2833     C   \n",
       "2            3         1       3  female  26.0      0      0   7.9250   NaN   \n",
       "3            4         1       1  female  35.0      1      0  53.1000     C   \n",
       "4            5         0       3    male  35.0      0      0   8.0500   NaN   \n",
       "\n",
       "  Embarked  HasCabin Prefix GroupPrefix  \n",
       "0        S         1     Mr          Mr  \n",
       "1        C         0    Mrs         Mrs  \n",
       "2        S         1   Miss        Miss  \n",
       "3        S         0    Mrs         Mrs  \n",
       "4        S         1     Mr          Mr  "
      ]
     },
     "execution_count": 29,
     "metadata": {},
     "output_type": "execute_result"
    }
   ],
   "source": [
    "train.head()"
   ]
  },
  {
   "cell_type": "code",
   "execution_count": 30,
   "metadata": {
    "execution": {
     "iopub.execute_input": "2023-06-10T10:04:55.498702Z",
     "iopub.status.busy": "2023-06-10T10:04:55.498300Z",
     "iopub.status.idle": "2023-06-10T10:04:55.512246Z",
     "shell.execute_reply": "2023-06-10T10:04:55.511335Z"
    },
    "papermill": {
     "duration": 0.038643,
     "end_time": "2023-06-10T10:04:55.514608",
     "exception": false,
     "start_time": "2023-06-10T10:04:55.475965",
     "status": "completed"
    },
    "tags": []
   },
   "outputs": [],
   "source": [
    "train.loc[(train.Prefix=='Dr')&(train.Sex=='male'), 'GroupPrefix'] = train[(train.Prefix=='Dr')&(train.Sex=='male')]['GroupPrefix'].replace('Dr', 'Mr')\n",
    "train.loc[(train.Prefix=='Dr')&(train.Sex=='female'), 'GroupPrefix'] = train[(train.Prefix=='Dr')&(train.Sex=='female')]['GroupPrefix'].replace('Dr', 'Mrs')"
   ]
  },
  {
   "cell_type": "code",
   "execution_count": 31,
   "metadata": {
    "execution": {
     "iopub.execute_input": "2023-06-10T10:04:55.560778Z",
     "iopub.status.busy": "2023-06-10T10:04:55.560359Z",
     "iopub.status.idle": "2023-06-10T10:04:55.568627Z",
     "shell.execute_reply": "2023-06-10T10:04:55.567497Z"
    },
    "papermill": {
     "duration": 0.033838,
     "end_time": "2023-06-10T10:04:55.571024",
     "exception": false,
     "start_time": "2023-06-10T10:04:55.537186",
     "status": "completed"
    },
    "tags": []
   },
   "outputs": [],
   "source": [
    "train.loc[train.Prefix=='Dr', ['Age', 'Sex', 'GroupPrefix']]\n",
    "train = train.drop('Prefix', axis=1)"
   ]
  },
  {
   "cell_type": "code",
   "execution_count": 32,
   "metadata": {
    "execution": {
     "iopub.execute_input": "2023-06-10T10:04:55.617196Z",
     "iopub.status.busy": "2023-06-10T10:04:55.616754Z",
     "iopub.status.idle": "2023-06-10T10:04:55.641279Z",
     "shell.execute_reply": "2023-06-10T10:04:55.640255Z"
    },
    "papermill": {
     "duration": 0.049732,
     "end_time": "2023-06-10T10:04:55.643694",
     "exception": false,
     "start_time": "2023-06-10T10:04:55.593962",
     "status": "completed"
    },
    "tags": []
   },
   "outputs": [
    {
     "data": {
      "text/html": [
       "<div>\n",
       "<style scoped>\n",
       "    .dataframe tbody tr th:only-of-type {\n",
       "        vertical-align: middle;\n",
       "    }\n",
       "\n",
       "    .dataframe tbody tr th {\n",
       "        vertical-align: top;\n",
       "    }\n",
       "\n",
       "    .dataframe thead th {\n",
       "        text-align: right;\n",
       "    }\n",
       "</style>\n",
       "<table border=\"1\" class=\"dataframe\">\n",
       "  <thead>\n",
       "    <tr style=\"text-align: right;\">\n",
       "      <th></th>\n",
       "      <th>PassengerId</th>\n",
       "      <th>Survived</th>\n",
       "      <th>Pclass</th>\n",
       "      <th>Sex</th>\n",
       "      <th>Age</th>\n",
       "      <th>SibSp</th>\n",
       "      <th>Parch</th>\n",
       "      <th>Fare</th>\n",
       "      <th>Cabin</th>\n",
       "      <th>Embarked</th>\n",
       "      <th>HasCabin</th>\n",
       "      <th>GroupPrefix</th>\n",
       "      <th>Alone</th>\n",
       "      <th>Couple</th>\n",
       "      <th>Family</th>\n",
       "    </tr>\n",
       "  </thead>\n",
       "  <tbody>\n",
       "    <tr>\n",
       "      <th>0</th>\n",
       "      <td>1</td>\n",
       "      <td>0</td>\n",
       "      <td>3</td>\n",
       "      <td>male</td>\n",
       "      <td>22.0</td>\n",
       "      <td>1</td>\n",
       "      <td>0</td>\n",
       "      <td>7.2500</td>\n",
       "      <td>NaN</td>\n",
       "      <td>S</td>\n",
       "      <td>1</td>\n",
       "      <td>Mr</td>\n",
       "      <td>0</td>\n",
       "      <td>1</td>\n",
       "      <td>0</td>\n",
       "    </tr>\n",
       "    <tr>\n",
       "      <th>1</th>\n",
       "      <td>2</td>\n",
       "      <td>1</td>\n",
       "      <td>1</td>\n",
       "      <td>female</td>\n",
       "      <td>38.0</td>\n",
       "      <td>1</td>\n",
       "      <td>0</td>\n",
       "      <td>71.2833</td>\n",
       "      <td>C</td>\n",
       "      <td>C</td>\n",
       "      <td>0</td>\n",
       "      <td>Mrs</td>\n",
       "      <td>0</td>\n",
       "      <td>1</td>\n",
       "      <td>0</td>\n",
       "    </tr>\n",
       "    <tr>\n",
       "      <th>2</th>\n",
       "      <td>3</td>\n",
       "      <td>1</td>\n",
       "      <td>3</td>\n",
       "      <td>female</td>\n",
       "      <td>26.0</td>\n",
       "      <td>0</td>\n",
       "      <td>0</td>\n",
       "      <td>7.9250</td>\n",
       "      <td>NaN</td>\n",
       "      <td>S</td>\n",
       "      <td>1</td>\n",
       "      <td>Miss</td>\n",
       "      <td>1</td>\n",
       "      <td>0</td>\n",
       "      <td>0</td>\n",
       "    </tr>\n",
       "    <tr>\n",
       "      <th>3</th>\n",
       "      <td>4</td>\n",
       "      <td>1</td>\n",
       "      <td>1</td>\n",
       "      <td>female</td>\n",
       "      <td>35.0</td>\n",
       "      <td>1</td>\n",
       "      <td>0</td>\n",
       "      <td>53.1000</td>\n",
       "      <td>C</td>\n",
       "      <td>S</td>\n",
       "      <td>0</td>\n",
       "      <td>Mrs</td>\n",
       "      <td>0</td>\n",
       "      <td>1</td>\n",
       "      <td>0</td>\n",
       "    </tr>\n",
       "    <tr>\n",
       "      <th>4</th>\n",
       "      <td>5</td>\n",
       "      <td>0</td>\n",
       "      <td>3</td>\n",
       "      <td>male</td>\n",
       "      <td>35.0</td>\n",
       "      <td>0</td>\n",
       "      <td>0</td>\n",
       "      <td>8.0500</td>\n",
       "      <td>NaN</td>\n",
       "      <td>S</td>\n",
       "      <td>1</td>\n",
       "      <td>Mr</td>\n",
       "      <td>1</td>\n",
       "      <td>0</td>\n",
       "      <td>0</td>\n",
       "    </tr>\n",
       "  </tbody>\n",
       "</table>\n",
       "</div>"
      ],
      "text/plain": [
       "   PassengerId  Survived  Pclass     Sex   Age  SibSp  Parch     Fare Cabin  \\\n",
       "0            1         0       3    male  22.0      1      0   7.2500   NaN   \n",
       "1            2         1       1  female  38.0      1      0  71.2833     C   \n",
       "2            3         1       3  female  26.0      0      0   7.9250   NaN   \n",
       "3            4         1       1  female  35.0      1      0  53.1000     C   \n",
       "4            5         0       3    male  35.0      0      0   8.0500   NaN   \n",
       "\n",
       "  Embarked  HasCabin GroupPrefix  Alone  Couple  Family  \n",
       "0        S         1          Mr      0       1       0  \n",
       "1        C         0         Mrs      0       1       0  \n",
       "2        S         1        Miss      1       0       0  \n",
       "3        S         0         Mrs      0       1       0  \n",
       "4        S         1          Mr      1       0       0  "
      ]
     },
     "execution_count": 32,
     "metadata": {},
     "output_type": "execute_result"
    }
   ],
   "source": [
    "train['Alone'] = 0\n",
    "train.loc[(train['SibSp']+train['Parch']) == 0, 'Alone'] = 1\n",
    "\n",
    "train['Couple'] = 0\n",
    "train.loc[(train['Parch'] == 0) & (train['SibSp'] > 0), 'Couple'] = 1\n",
    "\n",
    "train['Family'] = 0\n",
    "train.loc[(train['Parch'] > 0) & (train['SibSp'] > 0), 'Family'] = 1\n",
    "\n",
    "train.head()"
   ]
  },
  {
   "cell_type": "code",
   "execution_count": 33,
   "metadata": {
    "execution": {
     "iopub.execute_input": "2023-06-10T10:04:55.690244Z",
     "iopub.status.busy": "2023-06-10T10:04:55.689767Z",
     "iopub.status.idle": "2023-06-10T10:04:55.702961Z",
     "shell.execute_reply": "2023-06-10T10:04:55.702092Z"
    },
    "papermill": {
     "duration": 0.039774,
     "end_time": "2023-06-10T10:04:55.705791",
     "exception": false,
     "start_time": "2023-06-10T10:04:55.666017",
     "status": "completed"
    },
    "tags": []
   },
   "outputs": [
    {
     "name": "stdout",
     "output_type": "stream",
     "text": [
      "35.5000    2\n",
      "81.8583    1\n",
      "50.4958    1\n",
      "34.6542    1\n",
      "39.6000    1\n",
      "0.0000     1\n",
      "30.0000    1\n",
      "56.9292    1\n",
      "40.1250    1\n",
      "30.6958    1\n",
      "52.0000    1\n",
      "26.0000    1\n",
      "31.0000    1\n",
      "50.0000    1\n",
      "Name: Fare, dtype: int64\n",
      "A Class Mode: 35.5\n",
      "A Class Mean: 39.623886666666664\n",
      "A Class Std: 17.97533296106746\n"
     ]
    }
   ],
   "source": [
    "print(train.loc[train.Cabin == 'A', 'Fare'].value_counts())\n",
    "print('A Class Mode:', train.loc[train.Cabin == 'A', 'Fare'].mode()[0])\n",
    "print('A Class Mean:', train.loc[train.Cabin == 'A', 'Fare'].mean())\n",
    "print('A Class Std:', train.loc[train.Cabin == 'A', 'Fare'].std())"
   ]
  },
  {
   "cell_type": "code",
   "execution_count": 34,
   "metadata": {
    "execution": {
     "iopub.execute_input": "2023-06-10T10:04:55.753550Z",
     "iopub.status.busy": "2023-06-10T10:04:55.753176Z",
     "iopub.status.idle": "2023-06-10T10:04:55.765901Z",
     "shell.execute_reply": "2023-06-10T10:04:55.764184Z"
    },
    "papermill": {
     "duration": 0.039783,
     "end_time": "2023-06-10T10:04:55.768513",
     "exception": false,
     "start_time": "2023-06-10T10:04:55.728730",
     "status": "completed"
    },
    "tags": []
   },
   "outputs": [
    {
     "name": "stdout",
     "output_type": "stream",
     "text": [
      "120.0000    4\n",
      "86.5000     3\n",
      "79.2000     3\n",
      "211.3375    3\n",
      "91.0792     2\n",
      "247.5208    2\n",
      "0.0000      2\n",
      "93.5000     2\n",
      "71.0000     2\n",
      "57.0000     2\n",
      "57.9792     2\n",
      "262.3750    2\n",
      "69.3000     2\n",
      "146.5208    2\n",
      "512.3292    2\n",
      "80.0000     2\n",
      "30.0000     1\n",
      "5.0000      1\n",
      "26.5500     1\n",
      "61.9792     1\n",
      "52.0000     1\n",
      "30.5000     1\n",
      "49.5000     1\n",
      "29.7000     1\n",
      "27.7208     1\n",
      "33.5000     1\n",
      "Name: Fare, dtype: int64\n",
      "B Class Mode: 120.0\n",
      "B Class Mean: 113.50576382978724\n",
      "B Class Std: 109.30150025612326\n"
     ]
    }
   ],
   "source": [
    "print(train.loc[train.Cabin == 'B', 'Fare'].value_counts())\n",
    "print('B Class Mode:', train.loc[train.Cabin == 'B', 'Fare'].mode()[0])\n",
    "print('B Class Mean:', train.loc[train.Cabin == 'B', 'Fare'].mean())\n",
    "print('B Class Std:', train.loc[train.Cabin == 'B', 'Fare'].std())"
   ]
  },
  {
   "cell_type": "code",
   "execution_count": 35,
   "metadata": {
    "execution": {
     "iopub.execute_input": "2023-06-10T10:04:55.816513Z",
     "iopub.status.busy": "2023-06-10T10:04:55.816090Z",
     "iopub.status.idle": "2023-06-10T10:04:55.829844Z",
     "shell.execute_reply": "2023-06-10T10:04:55.828392Z"
    },
    "papermill": {
     "duration": 0.040433,
     "end_time": "2023-06-10T10:04:55.832137",
     "exception": false,
     "start_time": "2023-06-10T10:04:55.791704",
     "status": "completed"
    },
    "tags": []
   },
   "outputs": [
    {
     "name": "stdout",
     "output_type": "stream",
     "text": [
      "263.0000    4\n",
      "90.0000     4\n",
      "26.5500     4\n",
      "110.8833    3\n",
      "52.0000     3\n",
      "30.5000     3\n",
      "153.4625    3\n",
      "151.5500    3\n",
      "83.1583     2\n",
      "227.5250    2\n",
      "66.6000     2\n",
      "89.1042     2\n",
      "83.4750     2\n",
      "108.9000    2\n",
      "29.7000     2\n",
      "53.1000     2\n",
      "135.6333    2\n",
      "35.0000     1\n",
      "35.5000     1\n",
      "106.4250    1\n",
      "71.2833     1\n",
      "28.5000     1\n",
      "28.7125     1\n",
      "211.5000    1\n",
      "78.8500     1\n",
      "51.4792     1\n",
      "30.0000     1\n",
      "49.5042     1\n",
      "164.8667    1\n",
      "221.7792    1\n",
      "27.7500     1\n",
      "Name: Fare, dtype: int64\n",
      "C Class Mode: 26.55\n",
      "C Class Mean: 100.1513406779661\n",
      "C Class Std: 70.22558836155761\n"
     ]
    }
   ],
   "source": [
    "print(train.loc[train.Cabin == 'C', 'Fare'].value_counts())\n",
    "print('C Class Mode:', train.loc[train.Cabin == 'C', 'Fare'].mode()[0])\n",
    "print('C Class Mean:', train.loc[train.Cabin == 'C', 'Fare'].mean())\n",
    "print('C Class Std:', train.loc[train.Cabin == 'C', 'Fare'].std())"
   ]
  },
  {
   "cell_type": "code",
   "execution_count": 36,
   "metadata": {
    "execution": {
     "iopub.execute_input": "2023-06-10T10:04:55.879017Z",
     "iopub.status.busy": "2023-06-10T10:04:55.878286Z",
     "iopub.status.idle": "2023-06-10T10:04:55.890941Z",
     "shell.execute_reply": "2023-06-10T10:04:55.889279Z"
    },
    "papermill": {
     "duration": 0.038446,
     "end_time": "2023-06-10T10:04:55.893303",
     "exception": false,
     "start_time": "2023-06-10T10:04:55.854857",
     "status": "completed"
    },
    "tags": []
   },
   "outputs": [
    {
     "name": "stdout",
     "output_type": "stream",
     "text": [
      "113.2750    3\n",
      "52.5542     3\n",
      "76.7292     3\n",
      "77.9583     3\n",
      "78.2667     2\n",
      "30.0000     2\n",
      "25.9292     2\n",
      "77.2875     2\n",
      "13.0000     2\n",
      "51.8625     1\n",
      "13.7917     1\n",
      "76.2917     1\n",
      "34.0208     1\n",
      "39.4000     1\n",
      "32.3208     1\n",
      "26.2833     1\n",
      "53.1000     1\n",
      "63.3583     1\n",
      "75.2500     1\n",
      "12.8750     1\n",
      "Name: Fare, dtype: int64\n",
      "D Class Mode: 52.5542\n",
      "D Class Mean: 57.24457575757575\n",
      "D Class Std: 29.59283170128611\n"
     ]
    }
   ],
   "source": [
    "print(train.loc[train.Cabin == 'D', 'Fare'].value_counts())\n",
    "print('D Class Mode:', train.loc[train.Cabin == 'D', 'Fare'].mode()[0])\n",
    "print('D Class Mean:', train.loc[train.Cabin == 'D', 'Fare'].mean())\n",
    "print('D Class Std:', train.loc[train.Cabin == 'D', 'Fare'].std())"
   ]
  },
  {
   "cell_type": "code",
   "execution_count": 37,
   "metadata": {
    "execution": {
     "iopub.execute_input": "2023-06-10T10:04:55.941915Z",
     "iopub.status.busy": "2023-06-10T10:04:55.941044Z",
     "iopub.status.idle": "2023-06-10T10:04:55.952006Z",
     "shell.execute_reply": "2023-06-10T10:04:55.950957Z"
    },
    "papermill": {
     "duration": 0.038175,
     "end_time": "2023-06-10T10:04:55.954569",
     "exception": false,
     "start_time": "2023-06-10T10:04:55.916394",
     "status": "completed"
    },
    "tags": []
   },
   "outputs": [
    {
     "name": "stdout",
     "output_type": "stream",
     "text": [
      "26.5500     3\n",
      "79.6500     3\n",
      "26.2875     3\n",
      "55.9000     2\n",
      "12.4750     2\n",
      "55.0000     2\n",
      "134.5000    2\n",
      "53.1000     2\n",
      "10.5000     2\n",
      "56.9292     1\n",
      "38.5000     1\n",
      "12.3500     1\n",
      "83.1583     1\n",
      "25.5875     1\n",
      "55.4417     1\n",
      "8.0500      1\n",
      "26.3875     1\n",
      "51.8625     1\n",
      "61.1750     1\n",
      "13.0000     1\n",
      "Name: Fare, dtype: int64\n",
      "E Class Mode: 26.2875\n",
      "E Class Mean: 46.02669375\n"
     ]
    }
   ],
   "source": [
    "print(train.loc[train.Cabin == 'E', 'Fare'].value_counts())\n",
    "print('E Class Mode:', train.loc[train.Cabin == 'E', 'Fare'].mode()[0])\n",
    "print('E Class Mean:', train.loc[train.Cabin == 'E', 'Fare'].mean())"
   ]
  },
  {
   "cell_type": "code",
   "execution_count": 38,
   "metadata": {
    "execution": {
     "iopub.execute_input": "2023-06-10T10:04:56.002627Z",
     "iopub.status.busy": "2023-06-10T10:04:56.002214Z",
     "iopub.status.idle": "2023-06-10T10:04:56.012059Z",
     "shell.execute_reply": "2023-06-10T10:04:56.010985Z"
    },
    "papermill": {
     "duration": 0.036914,
     "end_time": "2023-06-10T10:04:56.014907",
     "exception": false,
     "start_time": "2023-06-10T10:04:55.977993",
     "status": "completed"
    },
    "tags": []
   },
   "outputs": [
    {
     "name": "stdout",
     "output_type": "stream",
     "text": [
      "7.6500     3\n",
      "26.0000    3\n",
      "39.0000    2\n",
      "10.5000    2\n",
      "22.3583    1\n",
      "7.7500     1\n",
      "13.0000    1\n",
      "Name: Fare, dtype: int64\n",
      "F Class Mode: 7.65\n",
      "F Class Mean: 18.69679230769231\n"
     ]
    }
   ],
   "source": [
    "print(train.loc[train.Cabin == 'F', 'Fare'].value_counts())\n",
    "print('F Class Mode:', train.loc[train.Cabin == 'F', 'Fare'].mode()[0])\n",
    "print('F Class Mean:', train.loc[train.Cabin == 'F', 'Fare'].mean())"
   ]
  },
  {
   "cell_type": "code",
   "execution_count": 39,
   "metadata": {
    "execution": {
     "iopub.execute_input": "2023-06-10T10:04:56.063017Z",
     "iopub.status.busy": "2023-06-10T10:04:56.062639Z",
     "iopub.status.idle": "2023-06-10T10:04:56.074007Z",
     "shell.execute_reply": "2023-06-10T10:04:56.072845Z"
    },
    "papermill": {
     "duration": 0.038202,
     "end_time": "2023-06-10T10:04:56.076475",
     "exception": false,
     "start_time": "2023-06-10T10:04:56.038273",
     "status": "completed"
    },
    "tags": []
   },
   "outputs": [
    {
     "name": "stdout",
     "output_type": "stream",
     "text": [
      "10.4625    2\n",
      "16.7000    2\n",
      "Name: Fare, dtype: int64\n",
      "G Class Mode: 10.4625\n",
      "G Class Mean: 13.58125\n",
      "G Class Std: 29.59283170128611\n"
     ]
    }
   ],
   "source": [
    "print(train.loc[train.Cabin == 'G', 'Fare'].value_counts())\n",
    "print('G Class Mode:', train.loc[train.Cabin == 'G', 'Fare'].mode()[0])\n",
    "print('G Class Mean:', train.loc[train.Cabin == 'G', 'Fare'].mean())\n",
    "print('G Class Std:', train.loc[train.Cabin == 'D', 'Fare'].std())"
   ]
  },
  {
   "cell_type": "code",
   "execution_count": 40,
   "metadata": {
    "execution": {
     "iopub.execute_input": "2023-06-10T10:04:56.124778Z",
     "iopub.status.busy": "2023-06-10T10:04:56.124346Z",
     "iopub.status.idle": "2023-06-10T10:04:56.133868Z",
     "shell.execute_reply": "2023-06-10T10:04:56.132735Z"
    },
    "papermill": {
     "duration": 0.036308,
     "end_time": "2023-06-10T10:04:56.136133",
     "exception": false,
     "start_time": "2023-06-10T10:04:56.099825",
     "status": "completed"
    },
    "tags": []
   },
   "outputs": [
    {
     "data": {
      "text/plain": [
       "35.5    1\n",
       "Name: Fare, dtype: int64"
      ]
     },
     "execution_count": 40,
     "metadata": {},
     "output_type": "execute_result"
    }
   ],
   "source": [
    "train.loc[train.Cabin == 'T', 'Fare'].value_counts()"
   ]
  },
  {
   "cell_type": "code",
   "execution_count": 41,
   "metadata": {
    "execution": {
     "iopub.execute_input": "2023-06-10T10:04:56.187187Z",
     "iopub.status.busy": "2023-06-10T10:04:56.186790Z",
     "iopub.status.idle": "2023-06-10T10:04:56.218093Z",
     "shell.execute_reply": "2023-06-10T10:04:56.216834Z"
    },
    "papermill": {
     "duration": 0.060565,
     "end_time": "2023-06-10T10:04:56.220631",
     "exception": false,
     "start_time": "2023-06-10T10:04:56.160066",
     "status": "completed"
    },
    "tags": []
   },
   "outputs": [],
   "source": [
    "train.loc[(train.Cabin.isnull() & ((train.Fare > 0) & (train.Fare < 13)), ['Fare', 'Cabin'])] = train.Cabin.fillna('G', inplace=True)\n",
    "\n",
    "train.loc[(train.Cabin.isnull() & ((train.Fare > 13) & (train.Fare < 18)), ['Fare', 'Cabin'])] = train.Cabin.fillna('G', inplace=True)\n",
    "\n",
    "train.loc[(train.Cabin.isnull() & ((train.Fare > 18) & (train.Fare < 46)), ['Fare', 'Cabin'])] = train.Cabin.fillna('F', inplace=True)\n",
    "\n",
    "train.loc[(train.Cabin.isnull() & ((train.Fare > 46) & (train.Fare < 57)), ['Fare', 'Cabin'])] = train.Cabin.fillna('E', inplace=True)\n",
    "\n",
    "train.loc[(train.Cabin.isnull() & ((train.Fare > 57) & (train.Fare < 100)), ['Fare', 'Cabin'])] = train.Cabin.fillna('D', inplace=True)\n",
    "\n",
    "train.loc[(train.Cabin.isnull() & ((train.Fare > 100) & (train.Fare < 113)), ['Fare', 'Cabin'])] = train.Cabin.fillna('C', inplace=True)\n",
    "\n",
    "train.loc[(train.Cabin.isnull() & (train.Fare > 113), ['Fare', 'Cabin'])] = train.Cabin.fillna('B', inplace=True)"
   ]
  },
  {
   "cell_type": "code",
   "execution_count": 42,
   "metadata": {
    "execution": {
     "iopub.execute_input": "2023-06-10T10:04:56.269231Z",
     "iopub.status.busy": "2023-06-10T10:04:56.268820Z",
     "iopub.status.idle": "2023-06-10T10:04:56.276745Z",
     "shell.execute_reply": "2023-06-10T10:04:56.275650Z"
    },
    "papermill": {
     "duration": 0.034855,
     "end_time": "2023-06-10T10:04:56.279094",
     "exception": false,
     "start_time": "2023-06-10T10:04:56.244239",
     "status": "completed"
    },
    "tags": []
   },
   "outputs": [
    {
     "data": {
      "text/plain": [
       "0"
      ]
     },
     "execution_count": 42,
     "metadata": {},
     "output_type": "execute_result"
    }
   ],
   "source": [
    "train.Cabin.isnull().sum()"
   ]
  },
  {
   "cell_type": "code",
   "execution_count": 43,
   "metadata": {
    "execution": {
     "iopub.execute_input": "2023-06-10T10:04:56.327986Z",
     "iopub.status.busy": "2023-06-10T10:04:56.327588Z",
     "iopub.status.idle": "2023-06-10T10:04:56.337892Z",
     "shell.execute_reply": "2023-06-10T10:04:56.337182Z"
    },
    "papermill": {
     "duration": 0.037319,
     "end_time": "2023-06-10T10:04:56.340032",
     "exception": false,
     "start_time": "2023-06-10T10:04:56.302713",
     "status": "completed"
    },
    "tags": []
   },
   "outputs": [
    {
     "data": {
      "text/plain": [
       "PassengerId    0\n",
       "Survived       0\n",
       "Pclass         0\n",
       "Sex            0\n",
       "Age            0\n",
       "SibSp          0\n",
       "Parch          0\n",
       "Fare           0\n",
       "Cabin          0\n",
       "Embarked       0\n",
       "HasCabin       0\n",
       "GroupPrefix    0\n",
       "Alone          0\n",
       "Couple         0\n",
       "Family         0\n",
       "dtype: int64"
      ]
     },
     "execution_count": 43,
     "metadata": {},
     "output_type": "execute_result"
    }
   ],
   "source": [
    "train.isnull().sum()"
   ]
  },
  {
   "cell_type": "code",
   "execution_count": 44,
   "metadata": {
    "execution": {
     "iopub.execute_input": "2023-06-10T10:04:56.388829Z",
     "iopub.status.busy": "2023-06-10T10:04:56.387840Z",
     "iopub.status.idle": "2023-06-10T10:04:57.010140Z",
     "shell.execute_reply": "2023-06-10T10:04:57.009259Z"
    },
    "papermill": {
     "duration": 0.649367,
     "end_time": "2023-06-10T10:04:57.012805",
     "exception": false,
     "start_time": "2023-06-10T10:04:56.363438",
     "status": "completed"
    },
    "tags": []
   },
   "outputs": [],
   "source": [
    "from sklearn.model_selection import train_test_split\n",
    "from sklearn.ensemble import RandomForestClassifier\n",
    "from sklearn.metrics import accuracy_score\n",
    "from sklearn.impute import SimpleImputer\n",
    "from sklearn.preprocessing import OneHotEncoder\n",
    "from sklearn.compose import ColumnTransformer\n",
    "from sklearn.pipeline import Pipeline"
   ]
  },
  {
   "cell_type": "code",
   "execution_count": 45,
   "metadata": {
    "execution": {
     "iopub.execute_input": "2023-06-10T10:04:57.061590Z",
     "iopub.status.busy": "2023-06-10T10:04:57.061179Z",
     "iopub.status.idle": "2023-06-10T10:04:57.085539Z",
     "shell.execute_reply": "2023-06-10T10:04:57.084192Z"
    },
    "papermill": {
     "duration": 0.051327,
     "end_time": "2023-06-10T10:04:57.087888",
     "exception": false,
     "start_time": "2023-06-10T10:04:57.036561",
     "status": "completed"
    },
    "tags": []
   },
   "outputs": [
    {
     "data": {
      "text/html": [
       "<div>\n",
       "<style scoped>\n",
       "    .dataframe tbody tr th:only-of-type {\n",
       "        vertical-align: middle;\n",
       "    }\n",
       "\n",
       "    .dataframe tbody tr th {\n",
       "        vertical-align: top;\n",
       "    }\n",
       "\n",
       "    .dataframe thead th {\n",
       "        text-align: right;\n",
       "    }\n",
       "</style>\n",
       "<table border=\"1\" class=\"dataframe\">\n",
       "  <thead>\n",
       "    <tr style=\"text-align: right;\">\n",
       "      <th></th>\n",
       "      <th>PassengerId</th>\n",
       "      <th>Survived</th>\n",
       "      <th>Pclass</th>\n",
       "      <th>Sex</th>\n",
       "      <th>Age</th>\n",
       "      <th>SibSp</th>\n",
       "      <th>Parch</th>\n",
       "      <th>Fare</th>\n",
       "      <th>Cabin</th>\n",
       "      <th>Embarked</th>\n",
       "      <th>HasCabin</th>\n",
       "      <th>GroupPrefix</th>\n",
       "      <th>Alone</th>\n",
       "      <th>Couple</th>\n",
       "      <th>Family</th>\n",
       "    </tr>\n",
       "  </thead>\n",
       "  <tbody>\n",
       "    <tr>\n",
       "      <th>0</th>\n",
       "      <td>1</td>\n",
       "      <td>0</td>\n",
       "      <td>3</td>\n",
       "      <td>male</td>\n",
       "      <td>22.000000</td>\n",
       "      <td>1</td>\n",
       "      <td>0</td>\n",
       "      <td>7.2500</td>\n",
       "      <td>G</td>\n",
       "      <td>S</td>\n",
       "      <td>1</td>\n",
       "      <td>Mr</td>\n",
       "      <td>0</td>\n",
       "      <td>1</td>\n",
       "      <td>0</td>\n",
       "    </tr>\n",
       "    <tr>\n",
       "      <th>1</th>\n",
       "      <td>2</td>\n",
       "      <td>1</td>\n",
       "      <td>1</td>\n",
       "      <td>female</td>\n",
       "      <td>38.000000</td>\n",
       "      <td>1</td>\n",
       "      <td>0</td>\n",
       "      <td>71.2833</td>\n",
       "      <td>C</td>\n",
       "      <td>C</td>\n",
       "      <td>0</td>\n",
       "      <td>Mrs</td>\n",
       "      <td>0</td>\n",
       "      <td>1</td>\n",
       "      <td>0</td>\n",
       "    </tr>\n",
       "    <tr>\n",
       "      <th>2</th>\n",
       "      <td>3</td>\n",
       "      <td>1</td>\n",
       "      <td>3</td>\n",
       "      <td>female</td>\n",
       "      <td>26.000000</td>\n",
       "      <td>0</td>\n",
       "      <td>0</td>\n",
       "      <td>7.9250</td>\n",
       "      <td>G</td>\n",
       "      <td>S</td>\n",
       "      <td>1</td>\n",
       "      <td>Miss</td>\n",
       "      <td>1</td>\n",
       "      <td>0</td>\n",
       "      <td>0</td>\n",
       "    </tr>\n",
       "    <tr>\n",
       "      <th>3</th>\n",
       "      <td>4</td>\n",
       "      <td>1</td>\n",
       "      <td>1</td>\n",
       "      <td>female</td>\n",
       "      <td>35.000000</td>\n",
       "      <td>1</td>\n",
       "      <td>0</td>\n",
       "      <td>53.1000</td>\n",
       "      <td>C</td>\n",
       "      <td>S</td>\n",
       "      <td>0</td>\n",
       "      <td>Mrs</td>\n",
       "      <td>0</td>\n",
       "      <td>1</td>\n",
       "      <td>0</td>\n",
       "    </tr>\n",
       "    <tr>\n",
       "      <th>4</th>\n",
       "      <td>5</td>\n",
       "      <td>0</td>\n",
       "      <td>3</td>\n",
       "      <td>male</td>\n",
       "      <td>35.000000</td>\n",
       "      <td>0</td>\n",
       "      <td>0</td>\n",
       "      <td>8.0500</td>\n",
       "      <td>G</td>\n",
       "      <td>S</td>\n",
       "      <td>1</td>\n",
       "      <td>Mr</td>\n",
       "      <td>1</td>\n",
       "      <td>0</td>\n",
       "      <td>0</td>\n",
       "    </tr>\n",
       "    <tr>\n",
       "      <th>...</th>\n",
       "      <td>...</td>\n",
       "      <td>...</td>\n",
       "      <td>...</td>\n",
       "      <td>...</td>\n",
       "      <td>...</td>\n",
       "      <td>...</td>\n",
       "      <td>...</td>\n",
       "      <td>...</td>\n",
       "      <td>...</td>\n",
       "      <td>...</td>\n",
       "      <td>...</td>\n",
       "      <td>...</td>\n",
       "      <td>...</td>\n",
       "      <td>...</td>\n",
       "      <td>...</td>\n",
       "    </tr>\n",
       "    <tr>\n",
       "      <th>886</th>\n",
       "      <td>887</td>\n",
       "      <td>0</td>\n",
       "      <td>2</td>\n",
       "      <td>male</td>\n",
       "      <td>27.000000</td>\n",
       "      <td>0</td>\n",
       "      <td>0</td>\n",
       "      <td>13.0000</td>\n",
       "      <td>G</td>\n",
       "      <td>S</td>\n",
       "      <td>1</td>\n",
       "      <td>Mr</td>\n",
       "      <td>1</td>\n",
       "      <td>0</td>\n",
       "      <td>0</td>\n",
       "    </tr>\n",
       "    <tr>\n",
       "      <th>887</th>\n",
       "      <td>888</td>\n",
       "      <td>1</td>\n",
       "      <td>1</td>\n",
       "      <td>female</td>\n",
       "      <td>19.000000</td>\n",
       "      <td>0</td>\n",
       "      <td>0</td>\n",
       "      <td>30.0000</td>\n",
       "      <td>B</td>\n",
       "      <td>S</td>\n",
       "      <td>0</td>\n",
       "      <td>Miss</td>\n",
       "      <td>1</td>\n",
       "      <td>0</td>\n",
       "      <td>0</td>\n",
       "    </tr>\n",
       "    <tr>\n",
       "      <th>888</th>\n",
       "      <td>889</td>\n",
       "      <td>0</td>\n",
       "      <td>3</td>\n",
       "      <td>female</td>\n",
       "      <td>27.915709</td>\n",
       "      <td>1</td>\n",
       "      <td>2</td>\n",
       "      <td>23.4500</td>\n",
       "      <td>G</td>\n",
       "      <td>S</td>\n",
       "      <td>1</td>\n",
       "      <td>Miss</td>\n",
       "      <td>0</td>\n",
       "      <td>0</td>\n",
       "      <td>1</td>\n",
       "    </tr>\n",
       "    <tr>\n",
       "      <th>889</th>\n",
       "      <td>890</td>\n",
       "      <td>1</td>\n",
       "      <td>1</td>\n",
       "      <td>male</td>\n",
       "      <td>26.000000</td>\n",
       "      <td>0</td>\n",
       "      <td>0</td>\n",
       "      <td>30.0000</td>\n",
       "      <td>C</td>\n",
       "      <td>C</td>\n",
       "      <td>0</td>\n",
       "      <td>Mr</td>\n",
       "      <td>1</td>\n",
       "      <td>0</td>\n",
       "      <td>0</td>\n",
       "    </tr>\n",
       "    <tr>\n",
       "      <th>890</th>\n",
       "      <td>891</td>\n",
       "      <td>0</td>\n",
       "      <td>3</td>\n",
       "      <td>male</td>\n",
       "      <td>32.000000</td>\n",
       "      <td>0</td>\n",
       "      <td>0</td>\n",
       "      <td>7.7500</td>\n",
       "      <td>G</td>\n",
       "      <td>Q</td>\n",
       "      <td>1</td>\n",
       "      <td>Mr</td>\n",
       "      <td>1</td>\n",
       "      <td>0</td>\n",
       "      <td>0</td>\n",
       "    </tr>\n",
       "  </tbody>\n",
       "</table>\n",
       "<p>891 rows × 15 columns</p>\n",
       "</div>"
      ],
      "text/plain": [
       "     PassengerId  Survived  Pclass     Sex        Age  SibSp  Parch     Fare  \\\n",
       "0              1         0       3    male  22.000000      1      0   7.2500   \n",
       "1              2         1       1  female  38.000000      1      0  71.2833   \n",
       "2              3         1       3  female  26.000000      0      0   7.9250   \n",
       "3              4         1       1  female  35.000000      1      0  53.1000   \n",
       "4              5         0       3    male  35.000000      0      0   8.0500   \n",
       "..           ...       ...     ...     ...        ...    ...    ...      ...   \n",
       "886          887         0       2    male  27.000000      0      0  13.0000   \n",
       "887          888         1       1  female  19.000000      0      0  30.0000   \n",
       "888          889         0       3  female  27.915709      1      2  23.4500   \n",
       "889          890         1       1    male  26.000000      0      0  30.0000   \n",
       "890          891         0       3    male  32.000000      0      0   7.7500   \n",
       "\n",
       "    Cabin Embarked  HasCabin GroupPrefix  Alone  Couple  Family  \n",
       "0       G        S         1          Mr      0       1       0  \n",
       "1       C        C         0         Mrs      0       1       0  \n",
       "2       G        S         1        Miss      1       0       0  \n",
       "3       C        S         0         Mrs      0       1       0  \n",
       "4       G        S         1          Mr      1       0       0  \n",
       "..    ...      ...       ...         ...    ...     ...     ...  \n",
       "886     G        S         1          Mr      1       0       0  \n",
       "887     B        S         0        Miss      1       0       0  \n",
       "888     G        S         1        Miss      0       0       1  \n",
       "889     C        C         0          Mr      1       0       0  \n",
       "890     G        Q         1          Mr      1       0       0  \n",
       "\n",
       "[891 rows x 15 columns]"
      ]
     },
     "execution_count": 45,
     "metadata": {},
     "output_type": "execute_result"
    }
   ],
   "source": [
    "train = train.copy()\n",
    "train"
   ]
  },
  {
   "cell_type": "code",
   "execution_count": 46,
   "metadata": {
    "execution": {
     "iopub.execute_input": "2023-06-10T10:04:57.137749Z",
     "iopub.status.busy": "2023-06-10T10:04:57.136802Z",
     "iopub.status.idle": "2023-06-10T10:04:57.143713Z",
     "shell.execute_reply": "2023-06-10T10:04:57.142512Z"
    },
    "papermill": {
     "duration": 0.034472,
     "end_time": "2023-06-10T10:04:57.146151",
     "exception": false,
     "start_time": "2023-06-10T10:04:57.111679",
     "status": "completed"
    },
    "tags": []
   },
   "outputs": [],
   "source": [
    "y = train.Survived\n",
    "X = train.drop(['Survived','PassengerId',], axis=1)"
   ]
  },
  {
   "cell_type": "code",
   "execution_count": 47,
   "metadata": {
    "execution": {
     "iopub.execute_input": "2023-06-10T10:04:57.196609Z",
     "iopub.status.busy": "2023-06-10T10:04:57.196205Z",
     "iopub.status.idle": "2023-06-10T10:04:57.204294Z",
     "shell.execute_reply": "2023-06-10T10:04:57.203295Z"
    },
    "papermill": {
     "duration": 0.036385,
     "end_time": "2023-06-10T10:04:57.206859",
     "exception": false,
     "start_time": "2023-06-10T10:04:57.170474",
     "status": "completed"
    },
    "tags": []
   },
   "outputs": [],
   "source": [
    "train_X, val_X, train_y, val_y = train_test_split(X, y, train_size = 0.8, test_size = 0.2, random_state = 0)"
   ]
  },
  {
   "cell_type": "code",
   "execution_count": 48,
   "metadata": {
    "execution": {
     "iopub.execute_input": "2023-06-10T10:04:57.257895Z",
     "iopub.status.busy": "2023-06-10T10:04:57.257492Z",
     "iopub.status.idle": "2023-06-10T10:04:57.264748Z",
     "shell.execute_reply": "2023-06-10T10:04:57.263531Z"
    },
    "papermill": {
     "duration": 0.035592,
     "end_time": "2023-06-10T10:04:57.266953",
     "exception": false,
     "start_time": "2023-06-10T10:04:57.231361",
     "status": "completed"
    },
    "tags": []
   },
   "outputs": [],
   "source": [
    "num_cols = [cols for cols in train_X.columns if train_X[cols].dtype in ['int64', 'float64']]\n",
    "cat_cols = [cols for cols in train_X.columns if train_X[cols].dtype == 'object']\n",
    "\n",
    "\n",
    "cat_trans = OneHotEncoder(handle_unknown='ignore')\n",
    "num_trans = SimpleImputer(strategy='mean')"
   ]
  },
  {
   "cell_type": "code",
   "execution_count": 49,
   "metadata": {
    "execution": {
     "iopub.execute_input": "2023-06-10T10:04:57.317264Z",
     "iopub.status.busy": "2023-06-10T10:04:57.316895Z",
     "iopub.status.idle": "2023-06-10T10:04:57.322821Z",
     "shell.execute_reply": "2023-06-10T10:04:57.321551Z"
    },
    "papermill": {
     "duration": 0.033809,
     "end_time": "2023-06-10T10:04:57.325340",
     "exception": false,
     "start_time": "2023-06-10T10:04:57.291531",
     "status": "completed"
    },
    "tags": []
   },
   "outputs": [],
   "source": [
    "preprocessor = ColumnTransformer(transformers=[\n",
    "    ('cat', cat_trans, cat_cols),\n",
    "    ('num', num_trans, num_cols),\n",
    "])\n",
    "model = RandomForestClassifier(n_estimators=1000, random_state=0)\n",
    "my_pipeline = Pipeline(steps=[\n",
    "    ('preprocessor', preprocessor),\n",
    "    ('model', model),\n",
    "])"
   ]
  },
  {
   "cell_type": "code",
   "execution_count": 50,
   "metadata": {
    "execution": {
     "iopub.execute_input": "2023-06-10T10:04:57.375911Z",
     "iopub.status.busy": "2023-06-10T10:04:57.375007Z",
     "iopub.status.idle": "2023-06-10T10:05:00.190591Z",
     "shell.execute_reply": "2023-06-10T10:05:00.189361Z"
    },
    "papermill": {
     "duration": 2.843789,
     "end_time": "2023-06-10T10:05:00.193005",
     "exception": false,
     "start_time": "2023-06-10T10:04:57.349216",
     "status": "completed"
    },
    "tags": []
   },
   "outputs": [
    {
     "data": {
      "text/html": [
       "<style>#sk-container-id-1 {color: black;background-color: white;}#sk-container-id-1 pre{padding: 0;}#sk-container-id-1 div.sk-toggleable {background-color: white;}#sk-container-id-1 label.sk-toggleable__label {cursor: pointer;display: block;width: 100%;margin-bottom: 0;padding: 0.3em;box-sizing: border-box;text-align: center;}#sk-container-id-1 label.sk-toggleable__label-arrow:before {content: \"▸\";float: left;margin-right: 0.25em;color: #696969;}#sk-container-id-1 label.sk-toggleable__label-arrow:hover:before {color: black;}#sk-container-id-1 div.sk-estimator:hover label.sk-toggleable__label-arrow:before {color: black;}#sk-container-id-1 div.sk-toggleable__content {max-height: 0;max-width: 0;overflow: hidden;text-align: left;background-color: #f0f8ff;}#sk-container-id-1 div.sk-toggleable__content pre {margin: 0.2em;color: black;border-radius: 0.25em;background-color: #f0f8ff;}#sk-container-id-1 input.sk-toggleable__control:checked~div.sk-toggleable__content {max-height: 200px;max-width: 100%;overflow: auto;}#sk-container-id-1 input.sk-toggleable__control:checked~label.sk-toggleable__label-arrow:before {content: \"▾\";}#sk-container-id-1 div.sk-estimator input.sk-toggleable__control:checked~label.sk-toggleable__label {background-color: #d4ebff;}#sk-container-id-1 div.sk-label input.sk-toggleable__control:checked~label.sk-toggleable__label {background-color: #d4ebff;}#sk-container-id-1 input.sk-hidden--visually {border: 0;clip: rect(1px 1px 1px 1px);clip: rect(1px, 1px, 1px, 1px);height: 1px;margin: -1px;overflow: hidden;padding: 0;position: absolute;width: 1px;}#sk-container-id-1 div.sk-estimator {font-family: monospace;background-color: #f0f8ff;border: 1px dotted black;border-radius: 0.25em;box-sizing: border-box;margin-bottom: 0.5em;}#sk-container-id-1 div.sk-estimator:hover {background-color: #d4ebff;}#sk-container-id-1 div.sk-parallel-item::after {content: \"\";width: 100%;border-bottom: 1px solid gray;flex-grow: 1;}#sk-container-id-1 div.sk-label:hover label.sk-toggleable__label {background-color: #d4ebff;}#sk-container-id-1 div.sk-serial::before {content: \"\";position: absolute;border-left: 1px solid gray;box-sizing: border-box;top: 0;bottom: 0;left: 50%;z-index: 0;}#sk-container-id-1 div.sk-serial {display: flex;flex-direction: column;align-items: center;background-color: white;padding-right: 0.2em;padding-left: 0.2em;position: relative;}#sk-container-id-1 div.sk-item {position: relative;z-index: 1;}#sk-container-id-1 div.sk-parallel {display: flex;align-items: stretch;justify-content: center;background-color: white;position: relative;}#sk-container-id-1 div.sk-item::before, #sk-container-id-1 div.sk-parallel-item::before {content: \"\";position: absolute;border-left: 1px solid gray;box-sizing: border-box;top: 0;bottom: 0;left: 50%;z-index: -1;}#sk-container-id-1 div.sk-parallel-item {display: flex;flex-direction: column;z-index: 1;position: relative;background-color: white;}#sk-container-id-1 div.sk-parallel-item:first-child::after {align-self: flex-end;width: 50%;}#sk-container-id-1 div.sk-parallel-item:last-child::after {align-self: flex-start;width: 50%;}#sk-container-id-1 div.sk-parallel-item:only-child::after {width: 0;}#sk-container-id-1 div.sk-dashed-wrapped {border: 1px dashed gray;margin: 0 0.4em 0.5em 0.4em;box-sizing: border-box;padding-bottom: 0.4em;background-color: white;}#sk-container-id-1 div.sk-label label {font-family: monospace;font-weight: bold;display: inline-block;line-height: 1.2em;}#sk-container-id-1 div.sk-label-container {text-align: center;}#sk-container-id-1 div.sk-container {/* jupyter's `normalize.less` sets `[hidden] { display: none; }` but bootstrap.min.css set `[hidden] { display: none !important; }` so we also need the `!important` here to be able to override the default hidden behavior on the sphinx rendered scikit-learn.org. See: https://github.com/scikit-learn/scikit-learn/issues/21755 */display: inline-block !important;position: relative;}#sk-container-id-1 div.sk-text-repr-fallback {display: none;}</style><div id=\"sk-container-id-1\" class=\"sk-top-container\"><div class=\"sk-text-repr-fallback\"><pre>Pipeline(steps=[(&#x27;preprocessor&#x27;,\n",
       "                 ColumnTransformer(transformers=[(&#x27;cat&#x27;,\n",
       "                                                  OneHotEncoder(handle_unknown=&#x27;ignore&#x27;),\n",
       "                                                  [&#x27;Sex&#x27;, &#x27;Cabin&#x27;, &#x27;Embarked&#x27;,\n",
       "                                                   &#x27;GroupPrefix&#x27;]),\n",
       "                                                 (&#x27;num&#x27;, SimpleImputer(),\n",
       "                                                  [&#x27;Pclass&#x27;, &#x27;Age&#x27;, &#x27;SibSp&#x27;,\n",
       "                                                   &#x27;Parch&#x27;, &#x27;Fare&#x27;, &#x27;HasCabin&#x27;,\n",
       "                                                   &#x27;Alone&#x27;, &#x27;Couple&#x27;,\n",
       "                                                   &#x27;Family&#x27;])])),\n",
       "                (&#x27;model&#x27;,\n",
       "                 RandomForestClassifier(n_estimators=1000, random_state=0))])</pre><b>In a Jupyter environment, please rerun this cell to show the HTML representation or trust the notebook. <br />On GitHub, the HTML representation is unable to render, please try loading this page with nbviewer.org.</b></div><div class=\"sk-container\" hidden><div class=\"sk-item sk-dashed-wrapped\"><div class=\"sk-label-container\"><div class=\"sk-label sk-toggleable\"><input class=\"sk-toggleable__control sk-hidden--visually\" id=\"sk-estimator-id-1\" type=\"checkbox\" ><label for=\"sk-estimator-id-1\" class=\"sk-toggleable__label sk-toggleable__label-arrow\">Pipeline</label><div class=\"sk-toggleable__content\"><pre>Pipeline(steps=[(&#x27;preprocessor&#x27;,\n",
       "                 ColumnTransformer(transformers=[(&#x27;cat&#x27;,\n",
       "                                                  OneHotEncoder(handle_unknown=&#x27;ignore&#x27;),\n",
       "                                                  [&#x27;Sex&#x27;, &#x27;Cabin&#x27;, &#x27;Embarked&#x27;,\n",
       "                                                   &#x27;GroupPrefix&#x27;]),\n",
       "                                                 (&#x27;num&#x27;, SimpleImputer(),\n",
       "                                                  [&#x27;Pclass&#x27;, &#x27;Age&#x27;, &#x27;SibSp&#x27;,\n",
       "                                                   &#x27;Parch&#x27;, &#x27;Fare&#x27;, &#x27;HasCabin&#x27;,\n",
       "                                                   &#x27;Alone&#x27;, &#x27;Couple&#x27;,\n",
       "                                                   &#x27;Family&#x27;])])),\n",
       "                (&#x27;model&#x27;,\n",
       "                 RandomForestClassifier(n_estimators=1000, random_state=0))])</pre></div></div></div><div class=\"sk-serial\"><div class=\"sk-item sk-dashed-wrapped\"><div class=\"sk-label-container\"><div class=\"sk-label sk-toggleable\"><input class=\"sk-toggleable__control sk-hidden--visually\" id=\"sk-estimator-id-2\" type=\"checkbox\" ><label for=\"sk-estimator-id-2\" class=\"sk-toggleable__label sk-toggleable__label-arrow\">preprocessor: ColumnTransformer</label><div class=\"sk-toggleable__content\"><pre>ColumnTransformer(transformers=[(&#x27;cat&#x27;, OneHotEncoder(handle_unknown=&#x27;ignore&#x27;),\n",
       "                                 [&#x27;Sex&#x27;, &#x27;Cabin&#x27;, &#x27;Embarked&#x27;, &#x27;GroupPrefix&#x27;]),\n",
       "                                (&#x27;num&#x27;, SimpleImputer(),\n",
       "                                 [&#x27;Pclass&#x27;, &#x27;Age&#x27;, &#x27;SibSp&#x27;, &#x27;Parch&#x27;, &#x27;Fare&#x27;,\n",
       "                                  &#x27;HasCabin&#x27;, &#x27;Alone&#x27;, &#x27;Couple&#x27;, &#x27;Family&#x27;])])</pre></div></div></div><div class=\"sk-parallel\"><div class=\"sk-parallel-item\"><div class=\"sk-item\"><div class=\"sk-label-container\"><div class=\"sk-label sk-toggleable\"><input class=\"sk-toggleable__control sk-hidden--visually\" id=\"sk-estimator-id-3\" type=\"checkbox\" ><label for=\"sk-estimator-id-3\" class=\"sk-toggleable__label sk-toggleable__label-arrow\">cat</label><div class=\"sk-toggleable__content\"><pre>[&#x27;Sex&#x27;, &#x27;Cabin&#x27;, &#x27;Embarked&#x27;, &#x27;GroupPrefix&#x27;]</pre></div></div></div><div class=\"sk-serial\"><div class=\"sk-item\"><div class=\"sk-estimator sk-toggleable\"><input class=\"sk-toggleable__control sk-hidden--visually\" id=\"sk-estimator-id-4\" type=\"checkbox\" ><label for=\"sk-estimator-id-4\" class=\"sk-toggleable__label sk-toggleable__label-arrow\">OneHotEncoder</label><div class=\"sk-toggleable__content\"><pre>OneHotEncoder(handle_unknown=&#x27;ignore&#x27;)</pre></div></div></div></div></div></div><div class=\"sk-parallel-item\"><div class=\"sk-item\"><div class=\"sk-label-container\"><div class=\"sk-label sk-toggleable\"><input class=\"sk-toggleable__control sk-hidden--visually\" id=\"sk-estimator-id-5\" type=\"checkbox\" ><label for=\"sk-estimator-id-5\" class=\"sk-toggleable__label sk-toggleable__label-arrow\">num</label><div class=\"sk-toggleable__content\"><pre>[&#x27;Pclass&#x27;, &#x27;Age&#x27;, &#x27;SibSp&#x27;, &#x27;Parch&#x27;, &#x27;Fare&#x27;, &#x27;HasCabin&#x27;, &#x27;Alone&#x27;, &#x27;Couple&#x27;, &#x27;Family&#x27;]</pre></div></div></div><div class=\"sk-serial\"><div class=\"sk-item\"><div class=\"sk-estimator sk-toggleable\"><input class=\"sk-toggleable__control sk-hidden--visually\" id=\"sk-estimator-id-6\" type=\"checkbox\" ><label for=\"sk-estimator-id-6\" class=\"sk-toggleable__label sk-toggleable__label-arrow\">SimpleImputer</label><div class=\"sk-toggleable__content\"><pre>SimpleImputer()</pre></div></div></div></div></div></div></div></div><div class=\"sk-item\"><div class=\"sk-estimator sk-toggleable\"><input class=\"sk-toggleable__control sk-hidden--visually\" id=\"sk-estimator-id-7\" type=\"checkbox\" ><label for=\"sk-estimator-id-7\" class=\"sk-toggleable__label sk-toggleable__label-arrow\">RandomForestClassifier</label><div class=\"sk-toggleable__content\"><pre>RandomForestClassifier(n_estimators=1000, random_state=0)</pre></div></div></div></div></div></div></div>"
      ],
      "text/plain": [
       "Pipeline(steps=[('preprocessor',\n",
       "                 ColumnTransformer(transformers=[('cat',\n",
       "                                                  OneHotEncoder(handle_unknown='ignore'),\n",
       "                                                  ['Sex', 'Cabin', 'Embarked',\n",
       "                                                   'GroupPrefix']),\n",
       "                                                 ('num', SimpleImputer(),\n",
       "                                                  ['Pclass', 'Age', 'SibSp',\n",
       "                                                   'Parch', 'Fare', 'HasCabin',\n",
       "                                                   'Alone', 'Couple',\n",
       "                                                   'Family'])])),\n",
       "                ('model',\n",
       "                 RandomForestClassifier(n_estimators=1000, random_state=0))])"
      ]
     },
     "execution_count": 50,
     "metadata": {},
     "output_type": "execute_result"
    }
   ],
   "source": [
    "my_pipeline.fit(train_X, train_y)"
   ]
  },
  {
   "cell_type": "code",
   "execution_count": 51,
   "metadata": {
    "execution": {
     "iopub.execute_input": "2023-06-10T10:05:00.244456Z",
     "iopub.status.busy": "2023-06-10T10:05:00.244012Z",
     "iopub.status.idle": "2023-06-10T10:05:00.407034Z",
     "shell.execute_reply": "2023-06-10T10:05:00.405646Z"
    },
    "papermill": {
     "duration": 0.19145,
     "end_time": "2023-06-10T10:05:00.409203",
     "exception": false,
     "start_time": "2023-06-10T10:05:00.217753",
     "status": "completed"
    },
    "tags": []
   },
   "outputs": [
    {
     "name": "stdout",
     "output_type": "stream",
     "text": [
      "0.8491620111731844\n"
     ]
    }
   ],
   "source": [
    "y_preds = my_pipeline.predict(val_X)\n",
    "score = accuracy_score(val_y, y_preds)\n",
    "print(score)"
   ]
  },
  {
   "cell_type": "code",
   "execution_count": 52,
   "metadata": {
    "execution": {
     "iopub.execute_input": "2023-06-10T10:05:00.460365Z",
     "iopub.status.busy": "2023-06-10T10:05:00.459170Z",
     "iopub.status.idle": "2023-06-10T10:05:03.628175Z",
     "shell.execute_reply": "2023-06-10T10:05:03.627049Z"
    },
    "papermill": {
     "duration": 3.196705,
     "end_time": "2023-06-10T10:05:03.630659",
     "exception": false,
     "start_time": "2023-06-10T10:05:00.433954",
     "status": "completed"
    },
    "tags": []
   },
   "outputs": [
    {
     "name": "stdout",
     "output_type": "stream",
     "text": [
      "0.9865319865319865\n"
     ]
    }
   ],
   "source": [
    "my_pipeline.fit(X,y)\n",
    "y_preds = pd.Series(my_pipeline.predict(X), index=X.index)\n",
    "score = accuracy_score(y, y_preds)\n",
    "print(score)"
   ]
  },
  {
   "cell_type": "code",
   "execution_count": 53,
   "metadata": {
    "execution": {
     "iopub.execute_input": "2023-06-10T10:05:03.681737Z",
     "iopub.status.busy": "2023-06-10T10:05:03.681340Z",
     "iopub.status.idle": "2023-06-10T10:05:04.075746Z",
     "shell.execute_reply": "2023-06-10T10:05:04.074630Z"
    },
    "papermill": {
     "duration": 0.422654,
     "end_time": "2023-06-10T10:05:04.078342",
     "exception": false,
     "start_time": "2023-06-10T10:05:03.655688",
     "status": "completed"
    },
    "tags": []
   },
   "outputs": [
    {
     "data": {
      "text/plain": [
       "<Axes: xlabel='GroupPrefix', ylabel='Survived'>"
      ]
     },
     "execution_count": 53,
     "metadata": {},
     "output_type": "execute_result"
    },
    {
     "data": {
      "image/png": "[encoded data removed]",
      "text/plain": [
       "<Figure size 432x288 with 1 Axes>"
      ]
     },
     "metadata": {
      "needs_background": "light"
     },
     "output_type": "display_data"
    }
   ],
   "source": [
    "sns.barplot(x='GroupPrefix', y='Survived', data=train)"
   ]
  },
  {
   "cell_type": "code",
   "execution_count": 54,
   "metadata": {
    "execution": {
     "iopub.execute_input": "2023-06-10T10:05:04.129611Z",
     "iopub.status.busy": "2023-06-10T10:05:04.129251Z",
     "iopub.status.idle": "2023-06-10T10:05:04.569975Z",
     "shell.execute_reply": "2023-06-10T10:05:04.568796Z"
    },
    "papermill": {
     "duration": 0.469339,
     "end_time": "2023-06-10T10:05:04.572493",
     "exception": false,
     "start_time": "2023-06-10T10:05:04.103154",
     "status": "completed"
    },
    "tags": []
   },
   "outputs": [
    {
     "data": {
      "text/plain": [
       "<Axes: xlabel='Survived', ylabel='Fare'>"
      ]
     },
     "execution_count": 54,
     "metadata": {},
     "output_type": "execute_result"
    },
    {
     "data": {
      "image/png": "[encoded data removed]",
      "text/plain": [
       "<Figure size 432x288 with 1 Axes>"
      ]
     },
     "metadata": {
      "needs_background": "light"
     },
     "output_type": "display_data"
    }
   ],
   "source": [
    "sns.scatterplot(x='Survived', y='Fare', hue='Sex', data=train, )"
   ]
  },
  {
   "cell_type": "code",
   "execution_count": null,
   "metadata": {
    "papermill": {
     "duration": 0.026275,
     "end_time": "2023-06-10T10:05:04.624940",
     "exception": false,
     "start_time": "2023-06-10T10:05:04.598665",
     "status": "completed"
    },
    "tags": []
   },
   "outputs": [],
   "source": []
  },
  {
   "cell_type": "code",
   "execution_count": null,
   "metadata": {},
   "outputs": [],
   "source": []
  },
  {
   "cell_type": "code",
   "execution_count": null,
   "metadata": {},
   "outputs": [],
   "source": []
  }
 ],
 "metadata": {
  "kernelspec": {
   "display_name": "Python 3",
   "language": "python",
   "name": "python3"
  },
  "language_info": {
   "codemirror_mode": {
    "name": "ipython",
    "version": 3
   },
   "file_extension": ".py",
   "mimetype": "text/x-python",
   "name": "python",
   "nbconvert_exporter": "python",
   "pygments_lexer": "ipython3",
   "version": "3.9.0"
  },
  "papermill": {
   "default_parameters": {},
   "duration": 24.792719,
   "end_time": "2023-06-10T10:05:05.674266",
   "environment_variables": {},
   "exception": null,
   "input_path": "__notebook__.ipynb",
   "output_path": "__notebook__.ipynb",
   "parameters": {},
   "start_time": "2023-06-10T10:04:40.881547",
   "version": "2.4.0"
  }
 },
 "nbformat": 4,
 "nbformat_minor": 5
}
